{
 "cells": [
  {
   "cell_type": "code",
   "execution_count": 1,
   "id": "9a4b16d2",
   "metadata": {},
   "outputs": [],
   "source": [
    "import pandas as pd\n",
    "import numpy as np\n",
    "import seaborn as sns\n",
    "import matplotlib.pyplot as plt\n",
    "\n",
    "%matplotlib inline\n",
    "\n",
    "import warnings\n",
    "warnings.filterwarnings('ignore')"
   ]
  },
  {
   "cell_type": "markdown",
   "id": "e2f55f56",
   "metadata": {},
   "source": [
    "### Загрузка и знакомство с данными. \n",
    "поиск пропусков, выбросов и аномалий"
   ]
  },
  {
   "cell_type": "code",
   "execution_count": 48,
   "id": "41359bd5",
   "metadata": {},
   "outputs": [
    {
     "data": {
      "text/html": [
       "<div>\n",
       "<style scoped>\n",
       "    .dataframe tbody tr th:only-of-type {\n",
       "        vertical-align: middle;\n",
       "    }\n",
       "\n",
       "    .dataframe tbody tr th {\n",
       "        vertical-align: top;\n",
       "    }\n",
       "\n",
       "    .dataframe thead th {\n",
       "        text-align: right;\n",
       "    }\n",
       "</style>\n",
       "<table border=\"1\" class=\"dataframe\">\n",
       "  <thead>\n",
       "    <tr style=\"text-align: right;\">\n",
       "      <th></th>\n",
       "      <th>Id</th>\n",
       "      <th>DistrictId</th>\n",
       "      <th>Rooms</th>\n",
       "      <th>Square</th>\n",
       "      <th>LifeSquare</th>\n",
       "      <th>KitchenSquare</th>\n",
       "      <th>Floor</th>\n",
       "      <th>HouseFloor</th>\n",
       "      <th>HouseYear</th>\n",
       "      <th>Ecology_1</th>\n",
       "      <th>Ecology_2</th>\n",
       "      <th>Ecology_3</th>\n",
       "      <th>Social_1</th>\n",
       "      <th>Social_2</th>\n",
       "      <th>Social_3</th>\n",
       "      <th>Healthcare_1</th>\n",
       "      <th>Helthcare_2</th>\n",
       "      <th>Shops_1</th>\n",
       "      <th>Shops_2</th>\n",
       "      <th>Price</th>\n",
       "    </tr>\n",
       "  </thead>\n",
       "  <tbody>\n",
       "    <tr>\n",
       "      <th>0</th>\n",
       "      <td>11809</td>\n",
       "      <td>27</td>\n",
       "      <td>3.0</td>\n",
       "      <td>115.027311</td>\n",
       "      <td>NaN</td>\n",
       "      <td>10.0</td>\n",
       "      <td>4</td>\n",
       "      <td>10.0</td>\n",
       "      <td>2014</td>\n",
       "      <td>0.075424</td>\n",
       "      <td>B</td>\n",
       "      <td>B</td>\n",
       "      <td>11</td>\n",
       "      <td>3097</td>\n",
       "      <td>0</td>\n",
       "      <td>NaN</td>\n",
       "      <td>0</td>\n",
       "      <td>0</td>\n",
       "      <td>B</td>\n",
       "      <td>305018.871089</td>\n",
       "    </tr>\n",
       "    <tr>\n",
       "      <th>1</th>\n",
       "      <td>3013</td>\n",
       "      <td>22</td>\n",
       "      <td>1.0</td>\n",
       "      <td>39.832524</td>\n",
       "      <td>23.169223</td>\n",
       "      <td>8.0</td>\n",
       "      <td>7</td>\n",
       "      <td>8.0</td>\n",
       "      <td>1966</td>\n",
       "      <td>0.118537</td>\n",
       "      <td>B</td>\n",
       "      <td>B</td>\n",
       "      <td>30</td>\n",
       "      <td>6207</td>\n",
       "      <td>1</td>\n",
       "      <td>1183.0</td>\n",
       "      <td>1</td>\n",
       "      <td>0</td>\n",
       "      <td>B</td>\n",
       "      <td>177734.553407</td>\n",
       "    </tr>\n",
       "    <tr>\n",
       "      <th>2</th>\n",
       "      <td>8215</td>\n",
       "      <td>1</td>\n",
       "      <td>3.0</td>\n",
       "      <td>78.342215</td>\n",
       "      <td>47.671972</td>\n",
       "      <td>10.0</td>\n",
       "      <td>2</td>\n",
       "      <td>17.0</td>\n",
       "      <td>1988</td>\n",
       "      <td>0.025609</td>\n",
       "      <td>B</td>\n",
       "      <td>B</td>\n",
       "      <td>33</td>\n",
       "      <td>5261</td>\n",
       "      <td>0</td>\n",
       "      <td>240.0</td>\n",
       "      <td>3</td>\n",
       "      <td>1</td>\n",
       "      <td>B</td>\n",
       "      <td>282078.720850</td>\n",
       "    </tr>\n",
       "    <tr>\n",
       "      <th>3</th>\n",
       "      <td>2352</td>\n",
       "      <td>1</td>\n",
       "      <td>1.0</td>\n",
       "      <td>40.409907</td>\n",
       "      <td>NaN</td>\n",
       "      <td>1.0</td>\n",
       "      <td>10</td>\n",
       "      <td>22.0</td>\n",
       "      <td>1977</td>\n",
       "      <td>0.007122</td>\n",
       "      <td>B</td>\n",
       "      <td>B</td>\n",
       "      <td>1</td>\n",
       "      <td>264</td>\n",
       "      <td>0</td>\n",
       "      <td>NaN</td>\n",
       "      <td>0</td>\n",
       "      <td>1</td>\n",
       "      <td>B</td>\n",
       "      <td>168106.007630</td>\n",
       "    </tr>\n",
       "    <tr>\n",
       "      <th>4</th>\n",
       "      <td>13866</td>\n",
       "      <td>94</td>\n",
       "      <td>2.0</td>\n",
       "      <td>64.285067</td>\n",
       "      <td>38.562517</td>\n",
       "      <td>9.0</td>\n",
       "      <td>16</td>\n",
       "      <td>16.0</td>\n",
       "      <td>1972</td>\n",
       "      <td>0.282798</td>\n",
       "      <td>B</td>\n",
       "      <td>B</td>\n",
       "      <td>33</td>\n",
       "      <td>8667</td>\n",
       "      <td>2</td>\n",
       "      <td>NaN</td>\n",
       "      <td>0</td>\n",
       "      <td>6</td>\n",
       "      <td>B</td>\n",
       "      <td>343995.102962</td>\n",
       "    </tr>\n",
       "    <tr>\n",
       "      <th>5</th>\n",
       "      <td>5804</td>\n",
       "      <td>99</td>\n",
       "      <td>3.0</td>\n",
       "      <td>62.528465</td>\n",
       "      <td>47.103833</td>\n",
       "      <td>6.0</td>\n",
       "      <td>9</td>\n",
       "      <td>9.0</td>\n",
       "      <td>1972</td>\n",
       "      <td>0.012339</td>\n",
       "      <td>B</td>\n",
       "      <td>B</td>\n",
       "      <td>35</td>\n",
       "      <td>5776</td>\n",
       "      <td>1</td>\n",
       "      <td>2078.0</td>\n",
       "      <td>2</td>\n",
       "      <td>4</td>\n",
       "      <td>B</td>\n",
       "      <td>161044.944138</td>\n",
       "    </tr>\n",
       "    <tr>\n",
       "      <th>6</th>\n",
       "      <td>8864</td>\n",
       "      <td>44</td>\n",
       "      <td>1.0</td>\n",
       "      <td>33.938750</td>\n",
       "      <td>21.772930</td>\n",
       "      <td>9.0</td>\n",
       "      <td>1</td>\n",
       "      <td>12.0</td>\n",
       "      <td>1968</td>\n",
       "      <td>0.232205</td>\n",
       "      <td>B</td>\n",
       "      <td>B</td>\n",
       "      <td>24</td>\n",
       "      <td>4860</td>\n",
       "      <td>1</td>\n",
       "      <td>80.0</td>\n",
       "      <td>0</td>\n",
       "      <td>3</td>\n",
       "      <td>B</td>\n",
       "      <td>142402.739272</td>\n",
       "    </tr>\n",
       "    <tr>\n",
       "      <th>7</th>\n",
       "      <td>13072</td>\n",
       "      <td>59</td>\n",
       "      <td>2.0</td>\n",
       "      <td>50.391814</td>\n",
       "      <td>32.893256</td>\n",
       "      <td>8.0</td>\n",
       "      <td>8</td>\n",
       "      <td>17.0</td>\n",
       "      <td>1986</td>\n",
       "      <td>0.019509</td>\n",
       "      <td>B</td>\n",
       "      <td>B</td>\n",
       "      <td>37</td>\n",
       "      <td>7687</td>\n",
       "      <td>11</td>\n",
       "      <td>176.0</td>\n",
       "      <td>5</td>\n",
       "      <td>5</td>\n",
       "      <td>B</td>\n",
       "      <td>326174.175191</td>\n",
       "    </tr>\n",
       "    <tr>\n",
       "      <th>8</th>\n",
       "      <td>9951</td>\n",
       "      <td>1</td>\n",
       "      <td>1.0</td>\n",
       "      <td>46.887892</td>\n",
       "      <td>44.628132</td>\n",
       "      <td>1.0</td>\n",
       "      <td>12</td>\n",
       "      <td>20.0</td>\n",
       "      <td>1977</td>\n",
       "      <td>0.007122</td>\n",
       "      <td>B</td>\n",
       "      <td>B</td>\n",
       "      <td>1</td>\n",
       "      <td>264</td>\n",
       "      <td>0</td>\n",
       "      <td>NaN</td>\n",
       "      <td>0</td>\n",
       "      <td>1</td>\n",
       "      <td>B</td>\n",
       "      <td>160400.401732</td>\n",
       "    </tr>\n",
       "    <tr>\n",
       "      <th>9</th>\n",
       "      <td>8094</td>\n",
       "      <td>6</td>\n",
       "      <td>3.0</td>\n",
       "      <td>79.867477</td>\n",
       "      <td>75.085125</td>\n",
       "      <td>1.0</td>\n",
       "      <td>3</td>\n",
       "      <td>17.0</td>\n",
       "      <td>2014</td>\n",
       "      <td>0.243205</td>\n",
       "      <td>B</td>\n",
       "      <td>B</td>\n",
       "      <td>5</td>\n",
       "      <td>1564</td>\n",
       "      <td>0</td>\n",
       "      <td>540.0</td>\n",
       "      <td>0</td>\n",
       "      <td>0</td>\n",
       "      <td>B</td>\n",
       "      <td>194756.023945</td>\n",
       "    </tr>\n",
       "  </tbody>\n",
       "</table>\n",
       "</div>"
      ],
      "text/plain": [
       "      Id  DistrictId  Rooms      Square  LifeSquare  KitchenSquare  Floor  \\\n",
       "0  11809          27    3.0  115.027311         NaN           10.0      4   \n",
       "1   3013          22    1.0   39.832524   23.169223            8.0      7   \n",
       "2   8215           1    3.0   78.342215   47.671972           10.0      2   \n",
       "3   2352           1    1.0   40.409907         NaN            1.0     10   \n",
       "4  13866          94    2.0   64.285067   38.562517            9.0     16   \n",
       "5   5804          99    3.0   62.528465   47.103833            6.0      9   \n",
       "6   8864          44    1.0   33.938750   21.772930            9.0      1   \n",
       "7  13072          59    2.0   50.391814   32.893256            8.0      8   \n",
       "8   9951           1    1.0   46.887892   44.628132            1.0     12   \n",
       "9   8094           6    3.0   79.867477   75.085125            1.0      3   \n",
       "\n",
       "   HouseFloor  HouseYear  Ecology_1 Ecology_2 Ecology_3  Social_1  Social_2  \\\n",
       "0        10.0       2014   0.075424         B         B        11      3097   \n",
       "1         8.0       1966   0.118537         B         B        30      6207   \n",
       "2        17.0       1988   0.025609         B         B        33      5261   \n",
       "3        22.0       1977   0.007122         B         B         1       264   \n",
       "4        16.0       1972   0.282798         B         B        33      8667   \n",
       "5         9.0       1972   0.012339         B         B        35      5776   \n",
       "6        12.0       1968   0.232205         B         B        24      4860   \n",
       "7        17.0       1986   0.019509         B         B        37      7687   \n",
       "8        20.0       1977   0.007122         B         B         1       264   \n",
       "9        17.0       2014   0.243205         B         B         5      1564   \n",
       "\n",
       "   Social_3  Healthcare_1  Helthcare_2  Shops_1 Shops_2          Price  \n",
       "0         0           NaN            0        0       B  305018.871089  \n",
       "1         1        1183.0            1        0       B  177734.553407  \n",
       "2         0         240.0            3        1       B  282078.720850  \n",
       "3         0           NaN            0        1       B  168106.007630  \n",
       "4         2           NaN            0        6       B  343995.102962  \n",
       "5         1        2078.0            2        4       B  161044.944138  \n",
       "6         1          80.0            0        3       B  142402.739272  \n",
       "7        11         176.0            5        5       B  326174.175191  \n",
       "8         0           NaN            0        1       B  160400.401732  \n",
       "9         0         540.0            0        0       B  194756.023945  "
      ]
     },
     "execution_count": 48,
     "metadata": {},
     "output_type": "execute_result"
    }
   ],
   "source": [
    "TRAIN_DATASET = \"./train.csv\"\n",
    "TEST_DATASET = \"./test.csv\"\n",
    "\n",
    "df = pd.read_csv(TRAIN_DATASET)\n",
    "df.head(10)"
   ]
  },
  {
   "cell_type": "code",
   "execution_count": 3,
   "id": "47a90941",
   "metadata": {},
   "outputs": [
    {
     "data": {
      "text/plain": [
       "Id                  0\n",
       "DistrictId          0\n",
       "Rooms               0\n",
       "Square              0\n",
       "LifeSquare       2113\n",
       "KitchenSquare       0\n",
       "Floor               0\n",
       "HouseFloor          0\n",
       "HouseYear           0\n",
       "Ecology_1           0\n",
       "Ecology_2           0\n",
       "Ecology_3           0\n",
       "Social_1            0\n",
       "Social_2            0\n",
       "Social_3            0\n",
       "Healthcare_1     4798\n",
       "Helthcare_2         0\n",
       "Shops_1             0\n",
       "Shops_2             0\n",
       "Price               0\n",
       "dtype: int64"
      ]
     },
     "execution_count": 3,
     "metadata": {},
     "output_type": "execute_result"
    }
   ],
   "source": [
    "df.isnull().sum()"
   ]
  },
  {
   "cell_type": "code",
   "execution_count": 4,
   "id": "d01300e4",
   "metadata": {},
   "outputs": [
    {
     "data": {
      "text/html": [
       "<div>\n",
       "<style scoped>\n",
       "    .dataframe tbody tr th:only-of-type {\n",
       "        vertical-align: middle;\n",
       "    }\n",
       "\n",
       "    .dataframe tbody tr th {\n",
       "        vertical-align: top;\n",
       "    }\n",
       "\n",
       "    .dataframe thead th {\n",
       "        text-align: right;\n",
       "    }\n",
       "</style>\n",
       "<table border=\"1\" class=\"dataframe\">\n",
       "  <thead>\n",
       "    <tr style=\"text-align: right;\">\n",
       "      <th></th>\n",
       "      <th>Id</th>\n",
       "      <th>DistrictId</th>\n",
       "      <th>Rooms</th>\n",
       "      <th>Square</th>\n",
       "      <th>LifeSquare</th>\n",
       "      <th>KitchenSquare</th>\n",
       "      <th>Floor</th>\n",
       "      <th>HouseFloor</th>\n",
       "      <th>HouseYear</th>\n",
       "      <th>Ecology_1</th>\n",
       "      <th>Social_1</th>\n",
       "      <th>Social_2</th>\n",
       "      <th>Social_3</th>\n",
       "      <th>Healthcare_1</th>\n",
       "      <th>Helthcare_2</th>\n",
       "      <th>Shops_1</th>\n",
       "      <th>Price</th>\n",
       "    </tr>\n",
       "  </thead>\n",
       "  <tbody>\n",
       "    <tr>\n",
       "      <th>count</th>\n",
       "      <td>10000.00000</td>\n",
       "      <td>10000.000000</td>\n",
       "      <td>10000.000000</td>\n",
       "      <td>10000.000000</td>\n",
       "      <td>7887.000000</td>\n",
       "      <td>10000.000000</td>\n",
       "      <td>10000.000000</td>\n",
       "      <td>10000.000000</td>\n",
       "      <td>1.000000e+04</td>\n",
       "      <td>10000.000000</td>\n",
       "      <td>10000.000000</td>\n",
       "      <td>10000.000000</td>\n",
       "      <td>10000.000000</td>\n",
       "      <td>5202.000000</td>\n",
       "      <td>10000.000000</td>\n",
       "      <td>10000.000000</td>\n",
       "      <td>10000.000000</td>\n",
       "    </tr>\n",
       "    <tr>\n",
       "      <th>mean</th>\n",
       "      <td>8383.40770</td>\n",
       "      <td>50.400800</td>\n",
       "      <td>1.890500</td>\n",
       "      <td>56.315775</td>\n",
       "      <td>37.199645</td>\n",
       "      <td>6.273300</td>\n",
       "      <td>8.526700</td>\n",
       "      <td>12.609400</td>\n",
       "      <td>3.990166e+03</td>\n",
       "      <td>0.118858</td>\n",
       "      <td>24.687000</td>\n",
       "      <td>5352.157400</td>\n",
       "      <td>8.039200</td>\n",
       "      <td>1142.904460</td>\n",
       "      <td>1.319500</td>\n",
       "      <td>4.231300</td>\n",
       "      <td>214138.857399</td>\n",
       "    </tr>\n",
       "    <tr>\n",
       "      <th>std</th>\n",
       "      <td>4859.01902</td>\n",
       "      <td>43.587592</td>\n",
       "      <td>0.839512</td>\n",
       "      <td>21.058732</td>\n",
       "      <td>86.241209</td>\n",
       "      <td>28.560917</td>\n",
       "      <td>5.241148</td>\n",
       "      <td>6.775974</td>\n",
       "      <td>2.005003e+05</td>\n",
       "      <td>0.119025</td>\n",
       "      <td>17.532614</td>\n",
       "      <td>4006.799803</td>\n",
       "      <td>23.831875</td>\n",
       "      <td>1021.517264</td>\n",
       "      <td>1.493601</td>\n",
       "      <td>4.806341</td>\n",
       "      <td>92872.293865</td>\n",
       "    </tr>\n",
       "    <tr>\n",
       "      <th>min</th>\n",
       "      <td>0.00000</td>\n",
       "      <td>0.000000</td>\n",
       "      <td>0.000000</td>\n",
       "      <td>1.136859</td>\n",
       "      <td>0.370619</td>\n",
       "      <td>0.000000</td>\n",
       "      <td>1.000000</td>\n",
       "      <td>0.000000</td>\n",
       "      <td>1.910000e+03</td>\n",
       "      <td>0.000000</td>\n",
       "      <td>0.000000</td>\n",
       "      <td>168.000000</td>\n",
       "      <td>0.000000</td>\n",
       "      <td>0.000000</td>\n",
       "      <td>0.000000</td>\n",
       "      <td>0.000000</td>\n",
       "      <td>59174.778028</td>\n",
       "    </tr>\n",
       "    <tr>\n",
       "      <th>25%</th>\n",
       "      <td>4169.50000</td>\n",
       "      <td>20.000000</td>\n",
       "      <td>1.000000</td>\n",
       "      <td>41.774881</td>\n",
       "      <td>22.769832</td>\n",
       "      <td>1.000000</td>\n",
       "      <td>4.000000</td>\n",
       "      <td>9.000000</td>\n",
       "      <td>1.974000e+03</td>\n",
       "      <td>0.017647</td>\n",
       "      <td>6.000000</td>\n",
       "      <td>1564.000000</td>\n",
       "      <td>0.000000</td>\n",
       "      <td>350.000000</td>\n",
       "      <td>0.000000</td>\n",
       "      <td>1.000000</td>\n",
       "      <td>153872.633942</td>\n",
       "    </tr>\n",
       "    <tr>\n",
       "      <th>50%</th>\n",
       "      <td>8394.50000</td>\n",
       "      <td>36.000000</td>\n",
       "      <td>2.000000</td>\n",
       "      <td>52.513310</td>\n",
       "      <td>32.781260</td>\n",
       "      <td>6.000000</td>\n",
       "      <td>7.000000</td>\n",
       "      <td>13.000000</td>\n",
       "      <td>1.977000e+03</td>\n",
       "      <td>0.075424</td>\n",
       "      <td>25.000000</td>\n",
       "      <td>5285.000000</td>\n",
       "      <td>2.000000</td>\n",
       "      <td>900.000000</td>\n",
       "      <td>1.000000</td>\n",
       "      <td>3.000000</td>\n",
       "      <td>192269.644879</td>\n",
       "    </tr>\n",
       "    <tr>\n",
       "      <th>75%</th>\n",
       "      <td>12592.50000</td>\n",
       "      <td>75.000000</td>\n",
       "      <td>2.000000</td>\n",
       "      <td>65.900625</td>\n",
       "      <td>45.128803</td>\n",
       "      <td>9.000000</td>\n",
       "      <td>12.000000</td>\n",
       "      <td>17.000000</td>\n",
       "      <td>2.001000e+03</td>\n",
       "      <td>0.195781</td>\n",
       "      <td>36.000000</td>\n",
       "      <td>7227.000000</td>\n",
       "      <td>5.000000</td>\n",
       "      <td>1548.000000</td>\n",
       "      <td>2.000000</td>\n",
       "      <td>6.000000</td>\n",
       "      <td>249135.462171</td>\n",
       "    </tr>\n",
       "    <tr>\n",
       "      <th>max</th>\n",
       "      <td>16798.00000</td>\n",
       "      <td>209.000000</td>\n",
       "      <td>19.000000</td>\n",
       "      <td>641.065193</td>\n",
       "      <td>7480.592129</td>\n",
       "      <td>2014.000000</td>\n",
       "      <td>42.000000</td>\n",
       "      <td>117.000000</td>\n",
       "      <td>2.005201e+07</td>\n",
       "      <td>0.521867</td>\n",
       "      <td>74.000000</td>\n",
       "      <td>19083.000000</td>\n",
       "      <td>141.000000</td>\n",
       "      <td>4849.000000</td>\n",
       "      <td>6.000000</td>\n",
       "      <td>23.000000</td>\n",
       "      <td>633233.466570</td>\n",
       "    </tr>\n",
       "  </tbody>\n",
       "</table>\n",
       "</div>"
      ],
      "text/plain": [
       "                Id    DistrictId         Rooms        Square   LifeSquare  \\\n",
       "count  10000.00000  10000.000000  10000.000000  10000.000000  7887.000000   \n",
       "mean    8383.40770     50.400800      1.890500     56.315775    37.199645   \n",
       "std     4859.01902     43.587592      0.839512     21.058732    86.241209   \n",
       "min        0.00000      0.000000      0.000000      1.136859     0.370619   \n",
       "25%     4169.50000     20.000000      1.000000     41.774881    22.769832   \n",
       "50%     8394.50000     36.000000      2.000000     52.513310    32.781260   \n",
       "75%    12592.50000     75.000000      2.000000     65.900625    45.128803   \n",
       "max    16798.00000    209.000000     19.000000    641.065193  7480.592129   \n",
       "\n",
       "       KitchenSquare         Floor    HouseFloor     HouseYear     Ecology_1  \\\n",
       "count   10000.000000  10000.000000  10000.000000  1.000000e+04  10000.000000   \n",
       "mean        6.273300      8.526700     12.609400  3.990166e+03      0.118858   \n",
       "std        28.560917      5.241148      6.775974  2.005003e+05      0.119025   \n",
       "min         0.000000      1.000000      0.000000  1.910000e+03      0.000000   \n",
       "25%         1.000000      4.000000      9.000000  1.974000e+03      0.017647   \n",
       "50%         6.000000      7.000000     13.000000  1.977000e+03      0.075424   \n",
       "75%         9.000000     12.000000     17.000000  2.001000e+03      0.195781   \n",
       "max      2014.000000     42.000000    117.000000  2.005201e+07      0.521867   \n",
       "\n",
       "           Social_1      Social_2      Social_3  Healthcare_1   Helthcare_2  \\\n",
       "count  10000.000000  10000.000000  10000.000000   5202.000000  10000.000000   \n",
       "mean      24.687000   5352.157400      8.039200   1142.904460      1.319500   \n",
       "std       17.532614   4006.799803     23.831875   1021.517264      1.493601   \n",
       "min        0.000000    168.000000      0.000000      0.000000      0.000000   \n",
       "25%        6.000000   1564.000000      0.000000    350.000000      0.000000   \n",
       "50%       25.000000   5285.000000      2.000000    900.000000      1.000000   \n",
       "75%       36.000000   7227.000000      5.000000   1548.000000      2.000000   \n",
       "max       74.000000  19083.000000    141.000000   4849.000000      6.000000   \n",
       "\n",
       "            Shops_1          Price  \n",
       "count  10000.000000   10000.000000  \n",
       "mean       4.231300  214138.857399  \n",
       "std        4.806341   92872.293865  \n",
       "min        0.000000   59174.778028  \n",
       "25%        1.000000  153872.633942  \n",
       "50%        3.000000  192269.644879  \n",
       "75%        6.000000  249135.462171  \n",
       "max       23.000000  633233.466570  "
      ]
     },
     "execution_count": 4,
     "metadata": {},
     "output_type": "execute_result"
    }
   ],
   "source": [
    "df.describe()"
   ]
  },
  {
   "cell_type": "markdown",
   "id": "63ca107c",
   "metadata": {},
   "source": [
    "### Много пропусков в LifeSquare и Healthcare_1\n",
    "Также странные значения в HouseYear, Rooms(нулевые значния), LifeSquare(max 7480), возможно HouseFloor(117 этажей многовато) "
   ]
  },
  {
   "cell_type": "code",
   "execution_count": 5,
   "id": "d9a9eafa",
   "metadata": {},
   "outputs": [
    {
     "name": "stdout",
     "output_type": "stream",
     "text": [
      "<class 'pandas.core.frame.DataFrame'>\n",
      "RangeIndex: 10000 entries, 0 to 9999\n",
      "Data columns (total 20 columns):\n",
      " #   Column         Non-Null Count  Dtype  \n",
      "---  ------         --------------  -----  \n",
      " 0   Id             10000 non-null  int64  \n",
      " 1   DistrictId     10000 non-null  int64  \n",
      " 2   Rooms          10000 non-null  float64\n",
      " 3   Square         10000 non-null  float64\n",
      " 4   LifeSquare     7887 non-null   float64\n",
      " 5   KitchenSquare  10000 non-null  float64\n",
      " 6   Floor          10000 non-null  int64  \n",
      " 7   HouseFloor     10000 non-null  float64\n",
      " 8   HouseYear      10000 non-null  int64  \n",
      " 9   Ecology_1      10000 non-null  float64\n",
      " 10  Ecology_2      10000 non-null  object \n",
      " 11  Ecology_3      10000 non-null  object \n",
      " 12  Social_1       10000 non-null  int64  \n",
      " 13  Social_2       10000 non-null  int64  \n",
      " 14  Social_3       10000 non-null  int64  \n",
      " 15  Healthcare_1   5202 non-null   float64\n",
      " 16  Helthcare_2    10000 non-null  int64  \n",
      " 17  Shops_1        10000 non-null  int64  \n",
      " 18  Shops_2        10000 non-null  object \n",
      " 19  Price          10000 non-null  float64\n",
      "dtypes: float64(8), int64(9), object(3)\n",
      "memory usage: 1.5+ MB\n"
     ]
    }
   ],
   "source": [
    "df.info()"
   ]
  },
  {
   "cell_type": "markdown",
   "id": "70230025",
   "metadata": {},
   "source": [
    "#### Имеются три категориальных признака (Ecology_2, Ecology_3, Shops_2).  К тому же признаки Room и HouseFloor имеют тип float, логично изменить их в int8"
   ]
  },
  {
   "cell_type": "code",
   "execution_count": 6,
   "id": "9a1a8b9b",
   "metadata": {},
   "outputs": [],
   "source": [
    "# df['Rooms'] = df['Rooms'].astype('int8')\n",
    "# df['HouseFloor'] = df['HouseFloor'].astype('int8')\n",
    "# df.info()"
   ]
  },
  {
   "cell_type": "markdown",
   "id": "988b5e1f",
   "metadata": {},
   "source": [
    "#### Данные с годами больше текущего надо менять на медианный"
   ]
  },
  {
   "cell_type": "code",
   "execution_count": 7,
   "id": "fdcf381c",
   "metadata": {},
   "outputs": [
    {
     "data": {
      "text/html": [
       "<div>\n",
       "<style scoped>\n",
       "    .dataframe tbody tr th:only-of-type {\n",
       "        vertical-align: middle;\n",
       "    }\n",
       "\n",
       "    .dataframe tbody tr th {\n",
       "        vertical-align: top;\n",
       "    }\n",
       "\n",
       "    .dataframe thead th {\n",
       "        text-align: right;\n",
       "    }\n",
       "</style>\n",
       "<table border=\"1\" class=\"dataframe\">\n",
       "  <thead>\n",
       "    <tr style=\"text-align: right;\">\n",
       "      <th></th>\n",
       "      <th>Id</th>\n",
       "      <th>DistrictId</th>\n",
       "      <th>Rooms</th>\n",
       "      <th>Square</th>\n",
       "      <th>LifeSquare</th>\n",
       "      <th>KitchenSquare</th>\n",
       "      <th>Floor</th>\n",
       "      <th>HouseFloor</th>\n",
       "      <th>HouseYear</th>\n",
       "      <th>Ecology_1</th>\n",
       "      <th>Ecology_2</th>\n",
       "      <th>Ecology_3</th>\n",
       "      <th>Social_1</th>\n",
       "      <th>Social_2</th>\n",
       "      <th>Social_3</th>\n",
       "      <th>Healthcare_1</th>\n",
       "      <th>Helthcare_2</th>\n",
       "      <th>Shops_1</th>\n",
       "      <th>Shops_2</th>\n",
       "      <th>Price</th>\n",
       "    </tr>\n",
       "  </thead>\n",
       "  <tbody>\n",
       "    <tr>\n",
       "      <th>8828</th>\n",
       "      <td>11607</td>\n",
       "      <td>147</td>\n",
       "      <td>2.0</td>\n",
       "      <td>44.791836</td>\n",
       "      <td>28.360393</td>\n",
       "      <td>5.0</td>\n",
       "      <td>4</td>\n",
       "      <td>9.0</td>\n",
       "      <td>4968</td>\n",
       "      <td>0.319809</td>\n",
       "      <td>B</td>\n",
       "      <td>B</td>\n",
       "      <td>25</td>\n",
       "      <td>4756</td>\n",
       "      <td>16</td>\n",
       "      <td>2857.0</td>\n",
       "      <td>5</td>\n",
       "      <td>8</td>\n",
       "      <td>B</td>\n",
       "      <td>243028.603096</td>\n",
       "    </tr>\n",
       "    <tr>\n",
       "      <th>9163</th>\n",
       "      <td>10814</td>\n",
       "      <td>109</td>\n",
       "      <td>1.0</td>\n",
       "      <td>37.265070</td>\n",
       "      <td>20.239714</td>\n",
       "      <td>9.0</td>\n",
       "      <td>9</td>\n",
       "      <td>12.0</td>\n",
       "      <td>20052011</td>\n",
       "      <td>0.136330</td>\n",
       "      <td>B</td>\n",
       "      <td>B</td>\n",
       "      <td>30</td>\n",
       "      <td>6141</td>\n",
       "      <td>10</td>\n",
       "      <td>262.0</td>\n",
       "      <td>3</td>\n",
       "      <td>6</td>\n",
       "      <td>B</td>\n",
       "      <td>254084.534396</td>\n",
       "    </tr>\n",
       "  </tbody>\n",
       "</table>\n",
       "</div>"
      ],
      "text/plain": [
       "         Id  DistrictId  Rooms     Square  LifeSquare  KitchenSquare  Floor  \\\n",
       "8828  11607         147    2.0  44.791836   28.360393            5.0      4   \n",
       "9163  10814         109    1.0  37.265070   20.239714            9.0      9   \n",
       "\n",
       "      HouseFloor  HouseYear  Ecology_1 Ecology_2 Ecology_3  Social_1  \\\n",
       "8828         9.0       4968   0.319809         B         B        25   \n",
       "9163        12.0   20052011   0.136330         B         B        30   \n",
       "\n",
       "      Social_2  Social_3  Healthcare_1  Helthcare_2  Shops_1 Shops_2  \\\n",
       "8828      4756        16        2857.0            5        8       B   \n",
       "9163      6141        10         262.0            3        6       B   \n",
       "\n",
       "              Price  \n",
       "8828  243028.603096  \n",
       "9163  254084.534396  "
      ]
     },
     "execution_count": 7,
     "metadata": {},
     "output_type": "execute_result"
    }
   ],
   "source": [
    "df[df['HouseYear'] > 2022]"
   ]
  },
  {
   "cell_type": "markdown",
   "id": "043dc416",
   "metadata": {},
   "source": [
    "### Целевая переменная"
   ]
  },
  {
   "cell_type": "code",
   "execution_count": 8,
   "id": "c7a28c2f",
   "metadata": {},
   "outputs": [],
   "source": [
    "target_mean = round(df['Price'].mean(), 2)\n",
    "target_median = df['Price'].median()\n",
    "target_mode = df['Price'].mode()[0]"
   ]
  },
  {
   "cell_type": "code",
   "execution_count": 9,
   "id": "34844830",
   "metadata": {},
   "outputs": [
    {
     "data": {
      "image/png": "[encoded data removed]",
      "text/plain": [
       "<Figure size 1152x576 with 1 Axes>"
      ]
     },
     "metadata": {
      "needs_background": "light"
     },
     "output_type": "display_data"
    }
   ],
   "source": [
    "plt.figure(figsize = (16, 8))\n",
    "\n",
    "sns.distplot(df['Price'], bins=50)\n",
    "\n",
    "y = np.linspace(0, 0.000007, 2)\n",
    "plt.plot([target_mean]*2, y, label='mean',  linewidth=4)\n",
    "plt.plot([target_median]*2, y, label='median',  linewidth=4)\n",
    "plt.plot([target_mode]*2, y, label='mode', linewidth=4)\n",
    "\n",
    "plt.title('Distribution of median_house_value')\n",
    "plt.legend()\n",
    "plt.show()"
   ]
  },
  {
   "cell_type": "code",
   "execution_count": 10,
   "id": "474c7144",
   "metadata": {},
   "outputs": [
    {
     "data": {
      "text/plain": [
       "232830.798767    1\n",
       "111207.565421    1\n",
       "108638.637214    1\n",
       "188774.351894    1\n",
       "244256.756548    1\n",
       "                ..\n",
       "263208.540162    1\n",
       "190550.982049    1\n",
       "259715.099993    1\n",
       "259358.658002    1\n",
       "166975.682285    1\n",
       "Name: Price, Length: 10000, dtype: int64"
      ]
     },
     "execution_count": 10,
     "metadata": {},
     "output_type": "execute_result"
    }
   ],
   "source": [
    "df['Price'].value_counts()"
   ]
  },
  {
   "cell_type": "code",
   "execution_count": 11,
   "id": "6335f827",
   "metadata": {},
   "outputs": [
    {
     "name": "stdout",
     "output_type": "stream",
     "text": [
      "59174.77802758122\n"
     ]
    },
    {
     "data": {
      "text/plain": [
       "True"
      ]
     },
     "execution_count": 11,
     "metadata": {},
     "output_type": "execute_result"
    }
   ],
   "source": [
    "print(target_mode)\n",
    "target_mode == df['Price'].min()"
   ]
  },
  {
   "cell_type": "markdown",
   "id": "1629a67c",
   "metadata": {},
   "source": [
    "Такое значение моды обусловлено тем, что в датасете вообще нет одинаковых значений целевой переменной, поэтому она равно минимуму\n",
    "В целом распределение довольно ровное, без выбросов и аномалий. Медиана и среднее примерно на одном уровне цены, в районе 200 000"
   ]
  },
  {
   "cell_type": "markdown",
   "id": "8b3fc9fc",
   "metadata": {},
   "source": [
    "   ### Количественные признаки"
   ]
  },
  {
   "cell_type": "markdown",
   "id": "1bb6dada",
   "metadata": {},
   "source": [
    "Для начала выделим какие из них количественные, а какие категориальные"
   ]
  },
  {
   "cell_type": "code",
   "execution_count": 12,
   "id": "376e10b4",
   "metadata": {},
   "outputs": [
    {
     "name": "stdout",
     "output_type": "stream",
     "text": [
      "<class 'pandas.core.frame.DataFrame'>\n",
      "RangeIndex: 10000 entries, 0 to 9999\n",
      "Data columns (total 20 columns):\n",
      " #   Column         Non-Null Count  Dtype  \n",
      "---  ------         --------------  -----  \n",
      " 0   Id             10000 non-null  int64  \n",
      " 1   DistrictId     10000 non-null  int64  \n",
      " 2   Rooms          10000 non-null  float64\n",
      " 3   Square         10000 non-null  float64\n",
      " 4   LifeSquare     7887 non-null   float64\n",
      " 5   KitchenSquare  10000 non-null  float64\n",
      " 6   Floor          10000 non-null  int64  \n",
      " 7   HouseFloor     10000 non-null  float64\n",
      " 8   HouseYear      10000 non-null  int64  \n",
      " 9   Ecology_1      10000 non-null  float64\n",
      " 10  Ecology_2      10000 non-null  object \n",
      " 11  Ecology_3      10000 non-null  object \n",
      " 12  Social_1       10000 non-null  int64  \n",
      " 13  Social_2       10000 non-null  int64  \n",
      " 14  Social_3       10000 non-null  int64  \n",
      " 15  Healthcare_1   5202 non-null   float64\n",
      " 16  Helthcare_2    10000 non-null  int64  \n",
      " 17  Shops_1        10000 non-null  int64  \n",
      " 18  Shops_2        10000 non-null  object \n",
      " 19  Price          10000 non-null  float64\n",
      "dtypes: float64(8), int64(9), object(3)\n",
      "memory usage: 1.5+ MB\n"
     ]
    }
   ],
   "source": [
    "df.info()"
   ]
  },
  {
   "cell_type": "code",
   "execution_count": 13,
   "id": "3fdd7285",
   "metadata": {},
   "outputs": [
    {
     "name": "stdout",
     "output_type": "stream",
     "text": [
      "Number of uniques:\n",
      "         \tDistrictId: 205\n",
      "         \tSocial_1: 51\n",
      "         \tSocial_2: 142\n",
      "         \tSocial_3: 30\n",
      "         \tHelthcare_2: 7\n",
      "         \tShops_1: 16\n"
     ]
    }
   ],
   "source": [
    "print(f\"Number of uniques:\\n \\\n",
    "        \\tDistrictId: {df['DistrictId'].nunique()}\\n \\\n",
    "        \\tSocial_1: {df['Social_1'].nunique()}\\n \\\n",
    "        \\tSocial_2: {df['Social_2'].nunique()}\\n \\\n",
    "        \\tSocial_3: {df['Social_3'].nunique()}\\n \\\n",
    "        \\tHelthcare_2: {df['Helthcare_2'].nunique()}\\n \\\n",
    "        \\tShops_1: {df['Shops_1'].nunique()}\")"
   ]
  },
  {
   "cell_type": "markdown",
   "id": "3b295416",
   "metadata": {},
   "source": [
    "DistrictId точно категрия. Остальные тоже похожи на категории, поэтому с ними разберемся позже, запишем их в список и удалим из датасета"
   ]
  },
  {
   "cell_type": "code",
   "execution_count": 14,
   "id": "42c2bdaa",
   "metadata": {},
   "outputs": [
    {
     "data": {
      "text/html": [
       "<div>\n",
       "<style scoped>\n",
       "    .dataframe tbody tr th:only-of-type {\n",
       "        vertical-align: middle;\n",
       "    }\n",
       "\n",
       "    .dataframe tbody tr th {\n",
       "        vertical-align: top;\n",
       "    }\n",
       "\n",
       "    .dataframe thead th {\n",
       "        text-align: right;\n",
       "    }\n",
       "</style>\n",
       "<table border=\"1\" class=\"dataframe\">\n",
       "  <thead>\n",
       "    <tr style=\"text-align: right;\">\n",
       "      <th></th>\n",
       "      <th>Rooms</th>\n",
       "      <th>Square</th>\n",
       "      <th>LifeSquare</th>\n",
       "      <th>KitchenSquare</th>\n",
       "      <th>Floor</th>\n",
       "      <th>HouseFloor</th>\n",
       "      <th>HouseYear</th>\n",
       "      <th>Ecology_1</th>\n",
       "      <th>Healthcare_1</th>\n",
       "    </tr>\n",
       "  </thead>\n",
       "  <tbody>\n",
       "    <tr>\n",
       "      <th>0</th>\n",
       "      <td>3.0</td>\n",
       "      <td>115.027311</td>\n",
       "      <td>NaN</td>\n",
       "      <td>10.0</td>\n",
       "      <td>4</td>\n",
       "      <td>10.0</td>\n",
       "      <td>2014</td>\n",
       "      <td>0.075424</td>\n",
       "      <td>NaN</td>\n",
       "    </tr>\n",
       "    <tr>\n",
       "      <th>1</th>\n",
       "      <td>1.0</td>\n",
       "      <td>39.832524</td>\n",
       "      <td>23.169223</td>\n",
       "      <td>8.0</td>\n",
       "      <td>7</td>\n",
       "      <td>8.0</td>\n",
       "      <td>1966</td>\n",
       "      <td>0.118537</td>\n",
       "      <td>1183.0</td>\n",
       "    </tr>\n",
       "    <tr>\n",
       "      <th>2</th>\n",
       "      <td>3.0</td>\n",
       "      <td>78.342215</td>\n",
       "      <td>47.671972</td>\n",
       "      <td>10.0</td>\n",
       "      <td>2</td>\n",
       "      <td>17.0</td>\n",
       "      <td>1988</td>\n",
       "      <td>0.025609</td>\n",
       "      <td>240.0</td>\n",
       "    </tr>\n",
       "    <tr>\n",
       "      <th>3</th>\n",
       "      <td>1.0</td>\n",
       "      <td>40.409907</td>\n",
       "      <td>NaN</td>\n",
       "      <td>1.0</td>\n",
       "      <td>10</td>\n",
       "      <td>22.0</td>\n",
       "      <td>1977</td>\n",
       "      <td>0.007122</td>\n",
       "      <td>NaN</td>\n",
       "    </tr>\n",
       "    <tr>\n",
       "      <th>4</th>\n",
       "      <td>2.0</td>\n",
       "      <td>64.285067</td>\n",
       "      <td>38.562517</td>\n",
       "      <td>9.0</td>\n",
       "      <td>16</td>\n",
       "      <td>16.0</td>\n",
       "      <td>1972</td>\n",
       "      <td>0.282798</td>\n",
       "      <td>NaN</td>\n",
       "    </tr>\n",
       "    <tr>\n",
       "      <th>...</th>\n",
       "      <td>...</td>\n",
       "      <td>...</td>\n",
       "      <td>...</td>\n",
       "      <td>...</td>\n",
       "      <td>...</td>\n",
       "      <td>...</td>\n",
       "      <td>...</td>\n",
       "      <td>...</td>\n",
       "      <td>...</td>\n",
       "    </tr>\n",
       "    <tr>\n",
       "      <th>9995</th>\n",
       "      <td>2.0</td>\n",
       "      <td>49.090728</td>\n",
       "      <td>33.272626</td>\n",
       "      <td>6.0</td>\n",
       "      <td>3</td>\n",
       "      <td>12.0</td>\n",
       "      <td>1981</td>\n",
       "      <td>0.300323</td>\n",
       "      <td>NaN</td>\n",
       "    </tr>\n",
       "    <tr>\n",
       "      <th>9996</th>\n",
       "      <td>2.0</td>\n",
       "      <td>64.307684</td>\n",
       "      <td>37.038420</td>\n",
       "      <td>9.0</td>\n",
       "      <td>13</td>\n",
       "      <td>0.0</td>\n",
       "      <td>1977</td>\n",
       "      <td>0.072158</td>\n",
       "      <td>NaN</td>\n",
       "    </tr>\n",
       "    <tr>\n",
       "      <th>9997</th>\n",
       "      <td>1.0</td>\n",
       "      <td>29.648057</td>\n",
       "      <td>16.555363</td>\n",
       "      <td>5.0</td>\n",
       "      <td>3</td>\n",
       "      <td>5.0</td>\n",
       "      <td>1958</td>\n",
       "      <td>0.460556</td>\n",
       "      <td>NaN</td>\n",
       "    </tr>\n",
       "    <tr>\n",
       "      <th>9998</th>\n",
       "      <td>1.0</td>\n",
       "      <td>32.330292</td>\n",
       "      <td>22.326870</td>\n",
       "      <td>5.0</td>\n",
       "      <td>3</td>\n",
       "      <td>9.0</td>\n",
       "      <td>1969</td>\n",
       "      <td>0.194489</td>\n",
       "      <td>125.0</td>\n",
       "    </tr>\n",
       "    <tr>\n",
       "      <th>9999</th>\n",
       "      <td>1.0</td>\n",
       "      <td>35.815476</td>\n",
       "      <td>22.301367</td>\n",
       "      <td>6.0</td>\n",
       "      <td>9</td>\n",
       "      <td>9.0</td>\n",
       "      <td>1975</td>\n",
       "      <td>0.127376</td>\n",
       "      <td>NaN</td>\n",
       "    </tr>\n",
       "  </tbody>\n",
       "</table>\n",
       "<p>10000 rows × 9 columns</p>\n",
       "</div>"
      ],
      "text/plain": [
       "      Rooms      Square  LifeSquare  KitchenSquare  Floor  HouseFloor  \\\n",
       "0       3.0  115.027311         NaN           10.0      4        10.0   \n",
       "1       1.0   39.832524   23.169223            8.0      7         8.0   \n",
       "2       3.0   78.342215   47.671972           10.0      2        17.0   \n",
       "3       1.0   40.409907         NaN            1.0     10        22.0   \n",
       "4       2.0   64.285067   38.562517            9.0     16        16.0   \n",
       "...     ...         ...         ...            ...    ...         ...   \n",
       "9995    2.0   49.090728   33.272626            6.0      3        12.0   \n",
       "9996    2.0   64.307684   37.038420            9.0     13         0.0   \n",
       "9997    1.0   29.648057   16.555363            5.0      3         5.0   \n",
       "9998    1.0   32.330292   22.326870            5.0      3         9.0   \n",
       "9999    1.0   35.815476   22.301367            6.0      9         9.0   \n",
       "\n",
       "      HouseYear  Ecology_1  Healthcare_1  \n",
       "0          2014   0.075424           NaN  \n",
       "1          1966   0.118537        1183.0  \n",
       "2          1988   0.025609         240.0  \n",
       "3          1977   0.007122           NaN  \n",
       "4          1972   0.282798           NaN  \n",
       "...         ...        ...           ...  \n",
       "9995       1981   0.300323           NaN  \n",
       "9996       1977   0.072158           NaN  \n",
       "9997       1958   0.460556           NaN  \n",
       "9998       1969   0.194489         125.0  \n",
       "9999       1975   0.127376           NaN  \n",
       "\n",
       "[10000 rows x 9 columns]"
      ]
     },
     "execution_count": 14,
     "metadata": {},
     "output_type": "execute_result"
    }
   ],
   "source": [
    "cat_features = ['DistrictId', 'Social_1', 'Ecology_2', 'Ecology_3', 'Social_2', \n",
    "                'Social_3', 'Helthcare_2', 'Shops_1', 'Shops_2']\n",
    "# df_num = df.select_dtypes(include=np.number)\n",
    "df_num = df.drop(columns=(cat_features + ['Id', 'Price']))\n",
    "df_num"
   ]
  },
  {
   "cell_type": "code",
   "execution_count": 15,
   "id": "c016b7f2",
   "metadata": {},
   "outputs": [
    {
     "data": {
      "text/plain": [
       "array([[<AxesSubplot:title={'center':'Rooms'}>,\n",
       "        <AxesSubplot:title={'center':'Square'}>,\n",
       "        <AxesSubplot:title={'center':'LifeSquare'}>],\n",
       "       [<AxesSubplot:title={'center':'KitchenSquare'}>,\n",
       "        <AxesSubplot:title={'center':'Floor'}>,\n",
       "        <AxesSubplot:title={'center':'HouseFloor'}>],\n",
       "       [<AxesSubplot:title={'center':'HouseYear'}>,\n",
       "        <AxesSubplot:title={'center':'Ecology_1'}>,\n",
       "        <AxesSubplot:title={'center':'Healthcare_1'}>]], dtype=object)"
      ]
     },
     "execution_count": 15,
     "metadata": {},
     "output_type": "execute_result"
    },
    {
     "data": {
      "image/png": "[encoded data removed]",
      "text/plain": [
       "<Figure size 1440x1440 with 9 Axes>"
      ]
     },
     "metadata": {
      "needs_background": "light"
     },
     "output_type": "display_data"
    }
   ],
   "source": [
    "df_num.hist(figsize=(20,20))"
   ]
  },
  {
   "cell_type": "code",
   "execution_count": 16,
   "id": "67a2a37a",
   "metadata": {},
   "outputs": [
    {
     "name": "stdout",
     "output_type": "stream",
     "text": [
      "29.719794884038905 117.85611482113002\n"
     ]
    },
    {
     "data": {
      "text/html": [
       "<div>\n",
       "<style scoped>\n",
       "    .dataframe tbody tr th:only-of-type {\n",
       "        vertical-align: middle;\n",
       "    }\n",
       "\n",
       "    .dataframe tbody tr th {\n",
       "        vertical-align: top;\n",
       "    }\n",
       "\n",
       "    .dataframe thead th {\n",
       "        text-align: right;\n",
       "    }\n",
       "</style>\n",
       "<table border=\"1\" class=\"dataframe\">\n",
       "  <thead>\n",
       "    <tr style=\"text-align: right;\">\n",
       "      <th></th>\n",
       "      <th>Id</th>\n",
       "      <th>DistrictId</th>\n",
       "      <th>Rooms</th>\n",
       "      <th>Square</th>\n",
       "      <th>LifeSquare</th>\n",
       "      <th>KitchenSquare</th>\n",
       "      <th>Floor</th>\n",
       "      <th>HouseFloor</th>\n",
       "      <th>HouseYear</th>\n",
       "      <th>Ecology_1</th>\n",
       "      <th>Ecology_2</th>\n",
       "      <th>Ecology_3</th>\n",
       "      <th>Social_1</th>\n",
       "      <th>Social_2</th>\n",
       "      <th>Social_3</th>\n",
       "      <th>Healthcare_1</th>\n",
       "      <th>Helthcare_2</th>\n",
       "      <th>Shops_1</th>\n",
       "      <th>Shops_2</th>\n",
       "      <th>Price</th>\n",
       "    </tr>\n",
       "  </thead>\n",
       "  <tbody>\n",
       "    <tr>\n",
       "      <th>111</th>\n",
       "      <td>13875</td>\n",
       "      <td>20</td>\n",
       "      <td>1.0</td>\n",
       "      <td>28.438794</td>\n",
       "      <td>32.514021</td>\n",
       "      <td>6.0</td>\n",
       "      <td>6</td>\n",
       "      <td>10.0</td>\n",
       "      <td>2014</td>\n",
       "      <td>0.019509</td>\n",
       "      <td>B</td>\n",
       "      <td>B</td>\n",
       "      <td>37</td>\n",
       "      <td>7687</td>\n",
       "      <td>11</td>\n",
       "      <td>176.0</td>\n",
       "      <td>5</td>\n",
       "      <td>5</td>\n",
       "      <td>B</td>\n",
       "      <td>199248.114376</td>\n",
       "    </tr>\n",
       "    <tr>\n",
       "      <th>130</th>\n",
       "      <td>8800</td>\n",
       "      <td>23</td>\n",
       "      <td>1.0</td>\n",
       "      <td>29.706031</td>\n",
       "      <td>NaN</td>\n",
       "      <td>0.0</td>\n",
       "      <td>5</td>\n",
       "      <td>12.0</td>\n",
       "      <td>1977</td>\n",
       "      <td>0.034656</td>\n",
       "      <td>B</td>\n",
       "      <td>B</td>\n",
       "      <td>0</td>\n",
       "      <td>168</td>\n",
       "      <td>0</td>\n",
       "      <td>NaN</td>\n",
       "      <td>0</td>\n",
       "      <td>0</td>\n",
       "      <td>B</td>\n",
       "      <td>60502.583500</td>\n",
       "    </tr>\n",
       "    <tr>\n",
       "      <th>136</th>\n",
       "      <td>5284</td>\n",
       "      <td>27</td>\n",
       "      <td>4.0</td>\n",
       "      <td>119.914990</td>\n",
       "      <td>78.518874</td>\n",
       "      <td>13.0</td>\n",
       "      <td>8</td>\n",
       "      <td>12.0</td>\n",
       "      <td>2015</td>\n",
       "      <td>0.072158</td>\n",
       "      <td>B</td>\n",
       "      <td>B</td>\n",
       "      <td>2</td>\n",
       "      <td>629</td>\n",
       "      <td>1</td>\n",
       "      <td>NaN</td>\n",
       "      <td>0</td>\n",
       "      <td>0</td>\n",
       "      <td>A</td>\n",
       "      <td>221374.057293</td>\n",
       "    </tr>\n",
       "    <tr>\n",
       "      <th>161</th>\n",
       "      <td>6782</td>\n",
       "      <td>45</td>\n",
       "      <td>1.0</td>\n",
       "      <td>2.954309</td>\n",
       "      <td>5.257278</td>\n",
       "      <td>1.0</td>\n",
       "      <td>3</td>\n",
       "      <td>1.0</td>\n",
       "      <td>1977</td>\n",
       "      <td>0.195781</td>\n",
       "      <td>B</td>\n",
       "      <td>B</td>\n",
       "      <td>23</td>\n",
       "      <td>5212</td>\n",
       "      <td>6</td>\n",
       "      <td>NaN</td>\n",
       "      <td>3</td>\n",
       "      <td>2</td>\n",
       "      <td>B</td>\n",
       "      <td>438005.182323</td>\n",
       "    </tr>\n",
       "    <tr>\n",
       "      <th>234</th>\n",
       "      <td>4935</td>\n",
       "      <td>23</td>\n",
       "      <td>1.0</td>\n",
       "      <td>28.859885</td>\n",
       "      <td>NaN</td>\n",
       "      <td>1.0</td>\n",
       "      <td>12</td>\n",
       "      <td>11.0</td>\n",
       "      <td>1977</td>\n",
       "      <td>0.034656</td>\n",
       "      <td>B</td>\n",
       "      <td>B</td>\n",
       "      <td>0</td>\n",
       "      <td>168</td>\n",
       "      <td>0</td>\n",
       "      <td>NaN</td>\n",
       "      <td>0</td>\n",
       "      <td>0</td>\n",
       "      <td>B</td>\n",
       "      <td>68375.615508</td>\n",
       "    </tr>\n",
       "    <tr>\n",
       "      <th>...</th>\n",
       "      <td>...</td>\n",
       "      <td>...</td>\n",
       "      <td>...</td>\n",
       "      <td>...</td>\n",
       "      <td>...</td>\n",
       "      <td>...</td>\n",
       "      <td>...</td>\n",
       "      <td>...</td>\n",
       "      <td>...</td>\n",
       "      <td>...</td>\n",
       "      <td>...</td>\n",
       "      <td>...</td>\n",
       "      <td>...</td>\n",
       "      <td>...</td>\n",
       "      <td>...</td>\n",
       "      <td>...</td>\n",
       "      <td>...</td>\n",
       "      <td>...</td>\n",
       "      <td>...</td>\n",
       "      <td>...</td>\n",
       "    </tr>\n",
       "    <tr>\n",
       "      <th>9846</th>\n",
       "      <td>1205</td>\n",
       "      <td>23</td>\n",
       "      <td>2.0</td>\n",
       "      <td>148.671938</td>\n",
       "      <td>100.201652</td>\n",
       "      <td>1.0</td>\n",
       "      <td>1</td>\n",
       "      <td>3.0</td>\n",
       "      <td>2013</td>\n",
       "      <td>0.014073</td>\n",
       "      <td>B</td>\n",
       "      <td>B</td>\n",
       "      <td>2</td>\n",
       "      <td>475</td>\n",
       "      <td>0</td>\n",
       "      <td>NaN</td>\n",
       "      <td>0</td>\n",
       "      <td>0</td>\n",
       "      <td>B</td>\n",
       "      <td>152464.848743</td>\n",
       "    </tr>\n",
       "    <tr>\n",
       "      <th>9869</th>\n",
       "      <td>3224</td>\n",
       "      <td>27</td>\n",
       "      <td>0.0</td>\n",
       "      <td>2.377248</td>\n",
       "      <td>0.873147</td>\n",
       "      <td>0.0</td>\n",
       "      <td>1</td>\n",
       "      <td>0.0</td>\n",
       "      <td>1977</td>\n",
       "      <td>0.017647</td>\n",
       "      <td>B</td>\n",
       "      <td>B</td>\n",
       "      <td>2</td>\n",
       "      <td>469</td>\n",
       "      <td>0</td>\n",
       "      <td>NaN</td>\n",
       "      <td>0</td>\n",
       "      <td>0</td>\n",
       "      <td>B</td>\n",
       "      <td>126596.941798</td>\n",
       "    </tr>\n",
       "    <tr>\n",
       "      <th>9877</th>\n",
       "      <td>11391</td>\n",
       "      <td>62</td>\n",
       "      <td>3.0</td>\n",
       "      <td>122.181937</td>\n",
       "      <td>NaN</td>\n",
       "      <td>1.0</td>\n",
       "      <td>3</td>\n",
       "      <td>3.0</td>\n",
       "      <td>1977</td>\n",
       "      <td>0.072158</td>\n",
       "      <td>B</td>\n",
       "      <td>B</td>\n",
       "      <td>2</td>\n",
       "      <td>629</td>\n",
       "      <td>1</td>\n",
       "      <td>NaN</td>\n",
       "      <td>0</td>\n",
       "      <td>0</td>\n",
       "      <td>A</td>\n",
       "      <td>259991.137225</td>\n",
       "    </tr>\n",
       "    <tr>\n",
       "      <th>9990</th>\n",
       "      <td>10635</td>\n",
       "      <td>21</td>\n",
       "      <td>1.0</td>\n",
       "      <td>18.983962</td>\n",
       "      <td>11.419796</td>\n",
       "      <td>2.0</td>\n",
       "      <td>1</td>\n",
       "      <td>5.0</td>\n",
       "      <td>1967</td>\n",
       "      <td>0.194489</td>\n",
       "      <td>B</td>\n",
       "      <td>B</td>\n",
       "      <td>47</td>\n",
       "      <td>8004</td>\n",
       "      <td>3</td>\n",
       "      <td>125.0</td>\n",
       "      <td>3</td>\n",
       "      <td>5</td>\n",
       "      <td>B</td>\n",
       "      <td>112411.221700</td>\n",
       "    </tr>\n",
       "    <tr>\n",
       "      <th>9997</th>\n",
       "      <td>2795</td>\n",
       "      <td>178</td>\n",
       "      <td>1.0</td>\n",
       "      <td>29.648057</td>\n",
       "      <td>16.555363</td>\n",
       "      <td>5.0</td>\n",
       "      <td>3</td>\n",
       "      <td>5.0</td>\n",
       "      <td>1958</td>\n",
       "      <td>0.460556</td>\n",
       "      <td>B</td>\n",
       "      <td>B</td>\n",
       "      <td>20</td>\n",
       "      <td>4386</td>\n",
       "      <td>14</td>\n",
       "      <td>NaN</td>\n",
       "      <td>1</td>\n",
       "      <td>5</td>\n",
       "      <td>B</td>\n",
       "      <td>165953.912580</td>\n",
       "    </tr>\n",
       "  </tbody>\n",
       "</table>\n",
       "<p>200 rows × 20 columns</p>\n",
       "</div>"
      ],
      "text/plain": [
       "         Id  DistrictId  Rooms      Square  LifeSquare  KitchenSquare  Floor  \\\n",
       "111   13875          20    1.0   28.438794   32.514021            6.0      6   \n",
       "130    8800          23    1.0   29.706031         NaN            0.0      5   \n",
       "136    5284          27    4.0  119.914990   78.518874           13.0      8   \n",
       "161    6782          45    1.0    2.954309    5.257278            1.0      3   \n",
       "234    4935          23    1.0   28.859885         NaN            1.0     12   \n",
       "...     ...         ...    ...         ...         ...            ...    ...   \n",
       "9846   1205          23    2.0  148.671938  100.201652            1.0      1   \n",
       "9869   3224          27    0.0    2.377248    0.873147            0.0      1   \n",
       "9877  11391          62    3.0  122.181937         NaN            1.0      3   \n",
       "9990  10635          21    1.0   18.983962   11.419796            2.0      1   \n",
       "9997   2795         178    1.0   29.648057   16.555363            5.0      3   \n",
       "\n",
       "      HouseFloor  HouseYear  Ecology_1 Ecology_2 Ecology_3  Social_1  \\\n",
       "111         10.0       2014   0.019509         B         B        37   \n",
       "130         12.0       1977   0.034656         B         B         0   \n",
       "136         12.0       2015   0.072158         B         B         2   \n",
       "161          1.0       1977   0.195781         B         B        23   \n",
       "234         11.0       1977   0.034656         B         B         0   \n",
       "...          ...        ...        ...       ...       ...       ...   \n",
       "9846         3.0       2013   0.014073         B         B         2   \n",
       "9869         0.0       1977   0.017647         B         B         2   \n",
       "9877         3.0       1977   0.072158         B         B         2   \n",
       "9990         5.0       1967   0.194489         B         B        47   \n",
       "9997         5.0       1958   0.460556         B         B        20   \n",
       "\n",
       "      Social_2  Social_3  Healthcare_1  Helthcare_2  Shops_1 Shops_2  \\\n",
       "111       7687        11         176.0            5        5       B   \n",
       "130        168         0           NaN            0        0       B   \n",
       "136        629         1           NaN            0        0       A   \n",
       "161       5212         6           NaN            3        2       B   \n",
       "234        168         0           NaN            0        0       B   \n",
       "...        ...       ...           ...          ...      ...     ...   \n",
       "9846       475         0           NaN            0        0       B   \n",
       "9869       469         0           NaN            0        0       B   \n",
       "9877       629         1           NaN            0        0       A   \n",
       "9990      8004         3         125.0            3        5       B   \n",
       "9997      4386        14           NaN            1        5       B   \n",
       "\n",
       "              Price  \n",
       "111   199248.114376  \n",
       "130    60502.583500  \n",
       "136   221374.057293  \n",
       "161   438005.182323  \n",
       "234    68375.615508  \n",
       "...             ...  \n",
       "9846  152464.848743  \n",
       "9869  126596.941798  \n",
       "9877  259991.137225  \n",
       "9990  112411.221700  \n",
       "9997  165953.912580  \n",
       "\n",
       "[200 rows x 20 columns]"
      ]
     },
     "execution_count": 16,
     "metadata": {},
     "output_type": "execute_result"
    }
   ],
   "source": [
    "print(df[\"Square\"].quantile(0.01), df[\"Square\"].quantile(0.99))\n",
    "df[(df[\"Square\"] < df[\"Square\"].quantile(0.01)) | (df[\"Square\"] > df[\"Square\"].quantile(0.99))]"
   ]
  },
  {
   "cell_type": "code",
   "execution_count": 17,
   "id": "942cd833",
   "metadata": {},
   "outputs": [
    {
     "name": "stdout",
     "output_type": "stream",
     "text": [
      "14.524808682119971 95.65247153492501\n",
      "0.0 16.0\n",
      "1.0 4.0\n"
     ]
    }
   ],
   "source": [
    "print(df[\"LifeSquare\"].quantile(0.03), df[\"LifeSquare\"].quantile(0.99))\n",
    "print(df[\"KitchenSquare\"].quantile(0.05), df[\"KitchenSquare\"].quantile(0.99))\n",
    "print(df[\"Rooms\"].quantile(0.05), df[\"Rooms\"].quantile(0.99))"
   ]
  },
  {
   "cell_type": "markdown",
   "id": "04377e03",
   "metadata": {},
   "source": [
    "Очень похоже на выбросы в фичах Square, LifeSquare, KitchenSquire и, возможно Floor и HouseFloor. В HouseYear точно несколько некорректных значений, которые нужно исправить, либо удалить"
   ]
  },
  {
   "cell_type": "code",
   "execution_count": 18,
   "id": "990b1322",
   "metadata": {},
   "outputs": [
    {
     "data": {
      "text/plain": [
       "<seaborn.axisgrid.JointGrid at 0x7f6d13f20b20>"
      ]
     },
     "execution_count": 18,
     "metadata": {},
     "output_type": "execute_result"
    },
    {
     "data": {
      "image/png": "[encoded data removed]",
      "text/plain": [
       "<Figure size 432x432 with 3 Axes>"
      ]
     },
     "metadata": {
      "needs_background": "light"
     },
     "output_type": "display_data"
    }
   ],
   "source": [
    "sns.jointplot(df['Square'], df['Rooms'], kind='reg')\n",
    "# При площади менее 100 кв м пристуствуют значения количества комнат 10 и даже 20\n",
    "# Так же при количестве комнат менее 5 присутствуют большие площади 200, 400 и даже 600 и более. \n",
    "# Явные выбросы, нужно будет менять на медианы значений"
   ]
  },
  {
   "cell_type": "code",
   "execution_count": 19,
   "id": "ec10b672",
   "metadata": {},
   "outputs": [
    {
     "data": {
      "image/png": "[encoded data removed]",
      "text/plain": [
       "<Figure size 1080x1440 with 8 Axes>"
      ]
     },
     "metadata": {
      "needs_background": "light"
     },
     "output_type": "display_data"
    }
   ],
   "source": [
    "fig, axes = plt.subplots(nrows=4, ncols=2)\n",
    "fig.set_size_inches(15, 20)\n",
    "for axe, col_name in zip(axes.flatten(), df_num.drop(columns='HouseYear').columns):\n",
    "    sns.boxplot(df_num[col_name], ax=axe, whis=1, x=col_name)\n",
    "#     axe.boxplot(df_num[col_name], whis=1.5, vert=False)\n",
    "plt.show()\n",
    "#sns.boxplot(data=df_num[['Square', 'LifeSquare', 'KitchenSquare']], orient='h', whis=1.5)"
   ]
  },
  {
   "cell_type": "markdown",
   "id": "8d2f4372",
   "metadata": {},
   "source": [
    "### Как будем обрабатывать выбросы:\n",
    "##### Rooms:\n",
    "    введем новую переменную MidRoomSquare (средняя площадь комнаты) LifeSquare/Rooms. Найдем ее медиану и значения выбросов и пропусков заполним ей. Саму переменную Rooms можно удалить, она будет заложена в двух, LifeSquare и MidRoomSquare, хотя можно и оставить. \n",
    "    В количестве комнат выбросом будем считать значения больше 5 и меньше 1\n",
    "##### Square, KitchenSquare и LifeSquare:\n",
    "    так же как с комнатами, введем переменную KitchenSquareRatio и LifeSquareRatio (доля площади кухни и жилой)\n",
    "    Менять на медианные их значения, там, где они слишком большие или маленькие, либо превышают общую площадь квартиры\n",
    "    Выбросы для LifeSquare будем считать < 14 (квантиль 0.03) и > 95 (квантиль 0.99)\n",
    "    Для кухни > 16 (квантиль 0.99)\n",
    "    Для общей площади < 29 и > 117 (0.01 и 0.99 квантили)\n",
    "\n",
    "##### HouseFloor и Floor\n",
    "    выглядят более менее нормально, но есть объекты, где этаж больше этажности дома и нулевые этажи. Там где этаж больше дома будем менять их местами, в нулевые запишем медиану, если она не больше этажности дома либо 1.\n",
    "\n",
    "\n",
    "##### Ecology_1 и Healthcare_1 \n",
    "    про них ничего не известно, поэтому анализировать нет возможности, оставлю как есть\n",
    "    Сделаю таблицу со средними по району Healthcare_1 и заполню ими пропуски в соответсвии с районом\n",
    "\n",
    "### "
   ]
  },
  {
   "cell_type": "code",
   "execution_count": 20,
   "id": "ca33f08e",
   "metadata": {},
   "outputs": [
    {
     "data": {
      "text/plain": [
       "4"
      ]
     },
     "execution_count": 20,
     "metadata": {},
     "output_type": "execute_result"
    }
   ],
   "source": [
    "df_num[df_num['KitchenSquare'] > df_num['Square']].shape[0]"
   ]
  },
  {
   "cell_type": "code",
   "execution_count": 21,
   "id": "41eda574",
   "metadata": {},
   "outputs": [
    {
     "data": {
      "text/plain": [
       "697"
      ]
     },
     "execution_count": 21,
     "metadata": {},
     "output_type": "execute_result"
    }
   ],
   "source": [
    "df_num[df_num[\"KitchenSquare\"] == 0].shape[0]"
   ]
  },
  {
   "cell_type": "code",
   "execution_count": 22,
   "id": "6707f2c9",
   "metadata": {},
   "outputs": [
    {
     "data": {
      "text/plain": [
       "482"
      ]
     },
     "execution_count": 22,
     "metadata": {},
     "output_type": "execute_result"
    }
   ],
   "source": [
    "df_num[df_num['LifeSquare'] > df_num['Square']].shape[0]"
   ]
  },
  {
   "cell_type": "code",
   "execution_count": 23,
   "id": "f2443c0e",
   "metadata": {},
   "outputs": [
    {
     "data": {
      "text/plain": [
       "1825"
      ]
     },
     "execution_count": 23,
     "metadata": {},
     "output_type": "execute_result"
    }
   ],
   "source": [
    "df_num[df_num['Floor'] > df_num['HouseFloor']].shape[0]"
   ]
  },
  {
   "cell_type": "code",
   "execution_count": 24,
   "id": "0336d8bc",
   "metadata": {},
   "outputs": [
    {
     "data": {
      "text/plain": [
       "1"
      ]
     },
     "execution_count": 24,
     "metadata": {},
     "output_type": "execute_result"
    }
   ],
   "source": [
    "df_num[\"Floor\"].min()"
   ]
  },
  {
   "cell_type": "code",
   "execution_count": 25,
   "id": "327aa346",
   "metadata": {},
   "outputs": [
    {
     "data": {
      "text/plain": [
       "269"
      ]
     },
     "execution_count": 25,
     "metadata": {},
     "output_type": "execute_result"
    }
   ],
   "source": [
    "df_num[df_num['HouseFloor'] == 0].shape[0]"
   ]
  },
  {
   "cell_type": "code",
   "execution_count": 26,
   "id": "5489569e",
   "metadata": {},
   "outputs": [
    {
     "data": {
      "text/plain": [
       "8"
      ]
     },
     "execution_count": 26,
     "metadata": {},
     "output_type": "execute_result"
    }
   ],
   "source": [
    "df_num[df_num['Rooms'] == 0].shape[0]"
   ]
  },
  {
   "cell_type": "code",
   "execution_count": 27,
   "id": "add5e530",
   "metadata": {},
   "outputs": [
    {
     "data": {
      "text/plain": [
       "0        27\n",
       "3         1\n",
       "4        94\n",
       "8         1\n",
       "11       88\n",
       "       ... \n",
       "9993      1\n",
       "9995     61\n",
       "9996     27\n",
       "9997    178\n",
       "9999     94\n",
       "Name: DistrictId, Length: 4798, dtype: int64"
      ]
     },
     "execution_count": 27,
     "metadata": {},
     "output_type": "execute_result"
    }
   ],
   "source": [
    "df[df['Healthcare_1'].isna()][\"DistrictId\"]"
   ]
  },
  {
   "cell_type": "code",
   "execution_count": 28,
   "id": "ac9a23f0",
   "metadata": {},
   "outputs": [
    {
     "name": "stdout",
     "output_type": "stream",
     "text": [
      "<class 'pandas.core.frame.DataFrame'>\n",
      "Int64Index: 10000 entries, 0 to 9999\n",
      "Data columns (total 21 columns):\n",
      " #   Column                  Non-Null Count  Dtype  \n",
      "---  ------                  --------------  -----  \n",
      " 0   Id                      10000 non-null  int64  \n",
      " 1   DistrictId              10000 non-null  int64  \n",
      " 2   Rooms                   10000 non-null  float64\n",
      " 3   Square                  10000 non-null  float64\n",
      " 4   LifeSquare              7887 non-null   float64\n",
      " 5   KitchenSquare           10000 non-null  float64\n",
      " 6   Floor                   10000 non-null  int64  \n",
      " 7   HouseFloor              10000 non-null  float64\n",
      " 8   HouseYear               10000 non-null  int64  \n",
      " 9   Ecology_1               10000 non-null  float64\n",
      " 10  Ecology_2               10000 non-null  object \n",
      " 11  Ecology_3               10000 non-null  object \n",
      " 12  Social_1                10000 non-null  int64  \n",
      " 13  Social_2                10000 non-null  int64  \n",
      " 14  Social_3                10000 non-null  int64  \n",
      " 15  Healthcare_1            8116 non-null   float64\n",
      " 16  Helthcare_2             10000 non-null  int64  \n",
      " 17  Shops_1                 10000 non-null  int64  \n",
      " 18  Shops_2                 10000 non-null  object \n",
      " 19  Price                   10000 non-null  float64\n",
      " 20  MidHealthcare_1_ByDist  8116 non-null   float64\n",
      "dtypes: float64(9), int64(9), object(3)\n",
      "memory usage: 1.7+ MB\n"
     ]
    }
   ],
   "source": [
    "df_c = df.copy()\n",
    "care_by_dist = df.groupby(\"DistrictId\").agg(MidHealthcare_1_ByDist=(\"Healthcare_1\", \"median\"))\n",
    "df_c = df_c.merge(care_by_dist, on=\"DistrictId\", how=\"left\")\n",
    "#df_c.loc[df_c['Healthcare_1'].isna(), 'Healthcare_1'] = df_c.loc[df_c['Healthcare_1'].isna(), 'MidHealthcare_1_ByDist']\n",
    "df_c['Healthcare_1'].fillna(df_c['MidHealthcare_1_ByDist'], inplace=True)\n",
    "df_c.info()"
   ]
  },
  {
   "cell_type": "markdown",
   "id": "6dbeb03a",
   "metadata": {},
   "source": [
    "### Категориальные переменные"
   ]
  },
  {
   "cell_type": "code",
   "execution_count": 29,
   "id": "0707450f",
   "metadata": {},
   "outputs": [
    {
     "name": "stdout",
     "output_type": "stream",
     "text": [
      "DistrictId: 205\n",
      "Social_1: 51\n",
      "Ecology_2: 2\n",
      "Ecology_3: 2\n",
      "Social_2: 142\n",
      "Social_3: 30\n",
      "Helthcare_2: 7\n",
      "Shops_1: 16\n",
      "Shops_2: 2\n"
     ]
    }
   ],
   "source": [
    "for feature in cat_features:\n",
    "    print(f'{feature}: {df[feature].nunique()}')"
   ]
  },
  {
   "cell_type": "code",
   "execution_count": 30,
   "id": "527f19f1",
   "metadata": {},
   "outputs": [
    {
     "data": {
      "text/plain": [
       "(array(['B', 'A'], dtype=object),\n",
       " array(['B', 'A'], dtype=object),\n",
       " array(['B', 'A'], dtype=object))"
      ]
     },
     "execution_count": 30,
     "metadata": {},
     "output_type": "execute_result"
    }
   ],
   "source": [
    "df['Ecology_2'].unique(), df['Ecology_3'].unique(), df['Shops_2'].unique()"
   ]
  },
  {
   "cell_type": "markdown",
   "id": "1a742d2e",
   "metadata": {},
   "source": [
    "#### Ecology_2, Ecology_3, Shops_2 бинарные признаки. A => 0, B => 1"
   ]
  },
  {
   "cell_type": "code",
   "execution_count": 31,
   "id": "61878759",
   "metadata": {},
   "outputs": [
    {
     "data": {
      "image/png": "[encoded data removed]",
      "text/plain": [
       "<Figure size 1080x720 with 2 Axes>"
      ]
     },
     "metadata": {
      "needs_background": "light"
     },
     "output_type": "display_data"
    }
   ],
   "source": [
    "plt.figure(figsize = (15,10))\n",
    "\n",
    "sns.set(font_scale=1.4)\n",
    "\n",
    "corr_matrix = df.corr()\n",
    "corr_matrix = np.round(corr_matrix, 2)\n",
    "corr_matrix[np.abs(corr_matrix) < 0.3] = 0\n",
    "\n",
    "sns.heatmap(corr_matrix, annot=True, linewidths=.5, cmap='coolwarm')\n",
    "\n",
    "plt.title('Correlation matrix')\n",
    "plt.show()"
   ]
  },
  {
   "cell_type": "markdown",
   "id": "ed35bd80",
   "metadata": {},
   "source": [
    "Social_2 и Social_1 очень сильно зависят между собой линейно. Оставлю их в количественных"
   ]
  },
  {
   "cell_type": "code",
   "execution_count": 32,
   "id": "ab729057",
   "metadata": {},
   "outputs": [
    {
     "data": {
      "text/plain": [
       "<seaborn.axisgrid.JointGrid at 0x7f6d13bbfd60>"
      ]
     },
     "execution_count": 32,
     "metadata": {},
     "output_type": "execute_result"
    },
    {
     "data": {
      "image/png": "[encoded data removed]",
      "text/plain": [
       "<Figure size 432x432 with 3 Axes>"
      ]
     },
     "metadata": {},
     "output_type": "display_data"
    }
   ],
   "source": [
    "sns.jointplot(df['Social_1'], df['Social_2'], kind='reg')"
   ]
  },
  {
   "cell_type": "markdown",
   "id": "fa21ec22",
   "metadata": {},
   "source": [
    "То же самое Social_3 и Shops_1 оставлю количественными"
   ]
  },
  {
   "cell_type": "markdown",
   "id": "725beefe",
   "metadata": {},
   "source": [
    "### DistrictId:\n",
    "###### Значений слишком много\n",
    "    \n",
    "    рассчитываем среднюю (или лучше медианную) цену за кв. м. по каждому району и вписываем ее вместо DistrictId"
   ]
  },
  {
   "cell_type": "code",
   "execution_count": 33,
   "id": "f4f6451f",
   "metadata": {},
   "outputs": [],
   "source": [
    "df_copy = df.copy()\n",
    "df_copy[\"MeterPrice\"] = df_copy[\"Price\"]/df_copy[\"Square\"]"
   ]
  },
  {
   "cell_type": "code",
   "execution_count": 34,
   "id": "b4dad476",
   "metadata": {},
   "outputs": [],
   "source": [
    "med_meter = df_copy.groupby([\"DistrictId\"]).agg({\"MeterPrice\": [\"mean\", \"median\"]})"
   ]
  },
  {
   "cell_type": "code",
   "execution_count": 35,
   "id": "b1010d63",
   "metadata": {},
   "outputs": [
    {
     "data": {
      "text/html": [
       "<div>\n",
       "<style scoped>\n",
       "    .dataframe tbody tr th:only-of-type {\n",
       "        vertical-align: middle;\n",
       "    }\n",
       "\n",
       "    .dataframe tbody tr th {\n",
       "        vertical-align: top;\n",
       "    }\n",
       "\n",
       "    .dataframe thead tr th {\n",
       "        text-align: left;\n",
       "    }\n",
       "\n",
       "    .dataframe thead tr:last-of-type th {\n",
       "        text-align: right;\n",
       "    }\n",
       "</style>\n",
       "<table border=\"1\" class=\"dataframe\">\n",
       "  <thead>\n",
       "    <tr>\n",
       "      <th></th>\n",
       "      <th colspan=\"2\" halign=\"left\">MeterPrice</th>\n",
       "    </tr>\n",
       "    <tr>\n",
       "      <th></th>\n",
       "      <th>mean</th>\n",
       "      <th>median</th>\n",
       "    </tr>\n",
       "    <tr>\n",
       "      <th>DistrictId</th>\n",
       "      <th></th>\n",
       "      <th></th>\n",
       "    </tr>\n",
       "  </thead>\n",
       "  <tbody>\n",
       "    <tr>\n",
       "      <th>0</th>\n",
       "      <td>3710.401014</td>\n",
       "      <td>3935.906409</td>\n",
       "    </tr>\n",
       "    <tr>\n",
       "      <th>1</th>\n",
       "      <td>3522.839502</td>\n",
       "      <td>3251.647396</td>\n",
       "    </tr>\n",
       "    <tr>\n",
       "      <th>2</th>\n",
       "      <td>4560.204511</td>\n",
       "      <td>4550.709250</td>\n",
       "    </tr>\n",
       "    <tr>\n",
       "      <th>3</th>\n",
       "      <td>3783.790553</td>\n",
       "      <td>3892.203737</td>\n",
       "    </tr>\n",
       "    <tr>\n",
       "      <th>4</th>\n",
       "      <td>5247.142313</td>\n",
       "      <td>5716.888354</td>\n",
       "    </tr>\n",
       "    <tr>\n",
       "      <th>...</th>\n",
       "      <td>...</td>\n",
       "      <td>...</td>\n",
       "    </tr>\n",
       "    <tr>\n",
       "      <th>202</th>\n",
       "      <td>7447.527733</td>\n",
       "      <td>7447.527733</td>\n",
       "    </tr>\n",
       "    <tr>\n",
       "      <th>205</th>\n",
       "      <td>5101.016598</td>\n",
       "      <td>5101.016598</td>\n",
       "    </tr>\n",
       "    <tr>\n",
       "      <th>207</th>\n",
       "      <td>5550.678339</td>\n",
       "      <td>5550.678339</td>\n",
       "    </tr>\n",
       "    <tr>\n",
       "      <th>208</th>\n",
       "      <td>8005.605047</td>\n",
       "      <td>8005.605047</td>\n",
       "    </tr>\n",
       "    <tr>\n",
       "      <th>209</th>\n",
       "      <td>4176.437542</td>\n",
       "      <td>4176.437542</td>\n",
       "    </tr>\n",
       "  </tbody>\n",
       "</table>\n",
       "<p>205 rows × 2 columns</p>\n",
       "</div>"
      ],
      "text/plain": [
       "             MeterPrice             \n",
       "                   mean       median\n",
       "DistrictId                          \n",
       "0           3710.401014  3935.906409\n",
       "1           3522.839502  3251.647396\n",
       "2           4560.204511  4550.709250\n",
       "3           3783.790553  3892.203737\n",
       "4           5247.142313  5716.888354\n",
       "...                 ...          ...\n",
       "202         7447.527733  7447.527733\n",
       "205         5101.016598  5101.016598\n",
       "207         5550.678339  5550.678339\n",
       "208         8005.605047  8005.605047\n",
       "209         4176.437542  4176.437542\n",
       "\n",
       "[205 rows x 2 columns]"
      ]
     },
     "execution_count": 35,
     "metadata": {},
     "output_type": "execute_result"
    }
   ],
   "source": [
    "med_meter"
   ]
  },
  {
   "cell_type": "markdown",
   "id": "f2764bb0",
   "metadata": {},
   "source": [
    "### Классы для обработки данных"
   ]
  },
  {
   "cell_type": "code",
   "execution_count": 36,
   "id": "8d0b8379",
   "metadata": {},
   "outputs": [],
   "source": [
    "def reduce_mem_usage(df):\n",
    "    \"\"\" iterate through all the columns of a dataframe and modify the data type\n",
    "        to reduce memory usage.        \n",
    "    \"\"\"\n",
    "    start_mem = df.memory_usage().sum() / 1024**2\n",
    "#    print('Memory usage of dataframe is {:.2f} MB'.format(start_mem))\n",
    "    \n",
    "    for col in df.columns:\n",
    "        col_type = df[col].dtype\n",
    "        \n",
    "        if col_type != object:\n",
    "            c_min = df[col].min()\n",
    "            c_max = df[col].max()\n",
    "            if str(col_type)[:3] == 'int':\n",
    "                if c_min > np.iinfo(np.int8).min and c_max < np.iinfo(np.int8).max:\n",
    "                    df[col] = df[col].astype(np.int8)\n",
    "                elif c_min > np.iinfo(np.int16).min and c_max < np.iinfo(np.int16).max:\n",
    "                    df[col] = df[col].astype(np.int16)\n",
    "                elif c_min > np.iinfo(np.int32).min and c_max < np.iinfo(np.int32).max:\n",
    "                    df[col] = df[col].astype(np.int32)\n",
    "                elif c_min > np.iinfo(np.int64).min and c_max < np.iinfo(np.int64).max:\n",
    "                    df[col] = df[col].astype(np.int64)  \n",
    "            else:\n",
    "                if c_min > np.finfo(np.float32).min and c_max < np.finfo(np.float32).max:\n",
    "                    df[col] = df[col].astype(np.float32)\n",
    "                else:\n",
    "                    df[col] = df[col].astype(np.float64)\n",
    "        else:\n",
    "            df[col] = df[col].astype('category')\n",
    "\n",
    "    end_mem = df.memory_usage().sum() / 1024**2\n",
    "#     print('Memory usage after optimization is: {:.2f} MB'.format(end_mem))\n",
    "#     print('Decreased by {:.1f}%'.format(100 * (start_mem - end_mem) / start_mem))\n",
    "    \n",
    "    return df"
   ]
  },
  {
   "cell_type": "code",
   "execution_count": 37,
   "id": "8cacbd6c",
   "metadata": {},
   "outputs": [],
   "source": [
    "from datetime import date\n",
    "\n",
    "class DataPipeline:\n",
    "    ### сюда передаем тренировочный датасет\n",
    "    def fit(self, X, y):\n",
    "        data = X.copy()\n",
    "        data['Price'] = y\n",
    "        ### Rooms\n",
    "        mask = (data['Rooms'] !=0) & (~data['LifeSquare'].isna())\n",
    "        data['MidRoomSquare'] = data.loc[mask, 'LifeSquare'] / data.loc[mask, 'Rooms']\n",
    "        self.room_square_median = data['MidRoomSquare'].median()\n",
    "        ### LifeSquare\n",
    "        mask = ~data['LifeSquare'].isna()\n",
    "        data['LifeSquareRatio'] = data.loc[mask, 'LifeSquare'] / data.loc[mask, 'Square']\n",
    "        self.mid_life_square_ratio = data['LifeSquareRatio'].median()\n",
    "        ### KitchenSquare\n",
    "        data['KitchenSquareRatio'] = data['KitchenSquare'] / data['Square']\n",
    "        self.mid_kitchen_square_ratio = data['KitchenSquareRatio'].median()\n",
    "        ###Square\n",
    "        self.mid_square = data[\"Square\"].median()\n",
    "        ### HouseYear \n",
    "        ### в трансформе будем менять его на возраст дома\n",
    "        ### Если год больше текущего и меньше 1900 меняем на медиану\n",
    "        self.house_year_median = data['HouseYear'].median()\n",
    "        #### Пропуски в Healthcare_1 заменим на медиану\n",
    "        ### + медианы по районам\n",
    "        self.care_by_dist = data.groupby(\"DistrictId\").agg(MidHealthcare_1_ByDist=(\"Healthcare_1\", \"median\"))\n",
    "        self.health_care_1 = data['Healthcare_1'].median()\n",
    "        #### DistrictId заменим на среднюю цену метра по району\n",
    "        #### это датафрейм. его в трансформе объединим с обучающим по ключу DistrictId\n",
    "        data[\"MeterPrice\"] = data[\"Price\"] / data[\"Square\"]\n",
    "        self.mid_meter_price_per_dist = data.groupby([\"DistrictId\"], as_index=False).agg(MedianMeterPrice = (\"MeterPrice\", \"median\"))\n",
    "        self.mid_meter_price_per_dist_median = self.mid_meter_price_per_dist[\"MedianMeterPrice\"].median()\n",
    "        \n",
    "        ### Это убрал, потому как с ними модели очень сильно переобучаются\n",
    "#         self.med_price_by_district = data.groupby(['DistrictId', 'Rooms'], as_index=False).agg({'Price':'median'})\\\n",
    "#                                             .rename(columns={'Price':'MedPriceByDistrict'})\n",
    "            \n",
    "#         self.med_price_by_district_median = self.med_price_by_district['MedPriceByDistrict'].median()\n",
    "\n",
    "\n",
    "    def transform(self, df):\n",
    "        result = df.copy()\n",
    "        result['Rooms'] = result['Rooms'].astype('int8')\n",
    "        result['HouseFloor'] = result['HouseFloor'].astype('int8')\n",
    "        \n",
    "        #### Заполняем пропуски и выбросы в LifeSquare\n",
    "        mask = (result['LifeSquare'].isna()) | \\\n",
    "                (result['LifeSquare'] > result['LifeSquare'].quantile(0.99)) | \\\n",
    "                (result['LifeSquare'] < result['LifeSquare'].quantile(0.03)) | \\\n",
    "                (result[\"LifeSquare\"] > result[\"Square\"])\n",
    "        result[\"ChangedLifeSquare\"] = mask.astype(\"int8\")\n",
    "        result.loc[mask, 'LifeSquare'] = result.loc[mask, 'Square'] * self.mid_life_square_ratio\n",
    "        \n",
    "        #### Заполняем нули в Rooms\n",
    "        result[\"ChangedRooms\"] = ((result[\"Rooms\"] == 1) | (result[\"Rooms\"] > 5)).astype(\"int8\")\n",
    "        result.loc[result['Rooms'] == 0, 'Rooms'] = (result.loc[result['Rooms'] == 0, 'LifeSquare'] / self.room_square_median).astype('int8')\n",
    "        ### Выбросы в Rooms и площадях\n",
    "        result.loc[result['Rooms'] > 5, \"Rooms\"] = (result.loc[result['Rooms'] > 5, 'LifeSquare'] / self.room_square_median).astype('int8')\n",
    "        ### Выбросы Square\n",
    "        mask = (result[\"Square\"] > result[\"Square\"].quantile(0.99))  | (result[\"Square\"] < result[\"Square\"].quantile(0.01))\n",
    "        result[\"ChangedSquare\"] = mask.astype(\"int8\")\n",
    "        result.loc[mask, \"Square\"] = self.mid_square\n",
    "        ### Нули и аномалии в KitchenSquare\n",
    "        mask = ((result[\"KitchenSquare\"] > result[\"Square\"]) | \\\n",
    "                (result[\"KitchenSquare\"] > result[\"KitchenSquare\"].quantile(0.99)))\n",
    "        result[\"ChangedKitchenSquare\"] = mask.astype(\"int8\")\n",
    "        result.loc[mask, \"KitchenSquare\"] = result.loc[mask, 'Square'] * self.mid_kitchen_square_ratio\n",
    "        \n",
    "        ### HouseFloor и Floor\n",
    "        mask = result[\"Floor\"] > result[\"HouseFloor\"]\n",
    "        result.loc[mask, \"Floor\"], result.loc[mask, \"HouseFloor\"] = result.loc[mask, \"HouseFloor\"], result.loc[mask, \"Floor\"]\n",
    "        result.loc[result[\"Floor\"] == 0, \"Floor\"] = 1\n",
    "        ### HouseYear\n",
    "        cur_year = date.today().year\n",
    "        result.loc[(result[\"HouseYear\"] > cur_year) | (result[\"HouseYear\"] < 1900), \"HouseYear\"] = self.house_year_median\n",
    "        result[\"IsHouseNew\"] = ((cur_year - result[\"HouseYear\"]) < 20).astype(\"int8\")\n",
    "        \n",
    "        ### DistrictId\n",
    "        result = result.merge(self.mid_meter_price_per_dist, on=\"DistrictId\", how=\"left\")\n",
    "        result[\"MedianMeterPrice\"].fillna(self.mid_meter_price_per_dist_median, inplace=True)\n",
    "        \n",
    "#         result = result.merge(self.med_price_by_district, on=[\"DistrictId\", \"Rooms\"], how=\"left\")\n",
    "#         result[\"MedPriceByDistrict\"].fillna(self.med_price_by_district_median, inplace=True)\n",
    "    \n",
    "        ### Healthcare_1\n",
    "        result[\"healthcare_1_na\"] = (result[\"Healthcare_1\"].isna()).astype(\"int8\")\n",
    "        \n",
    "        result = result.merge(self.care_by_dist, on=\"DistrictId\", how=\"left\")\n",
    "        result['Healthcare_1'].fillna(result['MidHealthcare_1_ByDist'], inplace=True)\n",
    "        result[\"Healthcare_1\"].fillna(self.health_care_1, inplace=True)\n",
    "\n",
    "        \n",
    "        #### Категории Ecology_2, Ecology_3, Shops_2\n",
    "        bin_cats = ['Ecology_2', 'Ecology_3', 'Shops_2']\n",
    "        result[bin_cats] = (result[bin_cats] == 'B').astype('int8')\n",
    "         \n",
    "        ### Дропаем лишнее\n",
    "        drop_cols = [\"Id\", \"DistrictId\", 'MidHealthcare_1_ByDist']\n",
    "        result.drop(columns=drop_cols, inplace=True)\n",
    "        \n",
    "        return reduce_mem_usage(result)\n",
    "    "
   ]
  },
  {
   "cell_type": "code",
   "execution_count": 38,
   "id": "c9626a09",
   "metadata": {},
   "outputs": [
    {
     "name": "stdout",
     "output_type": "stream",
     "text": [
      "<class 'pandas.core.frame.DataFrame'>\n",
      "Int64Index: 2000 entries, 0 to 1999\n",
      "Data columns (total 24 columns):\n",
      " #   Column                Non-Null Count  Dtype  \n",
      "---  ------                --------------  -----  \n",
      " 0   Rooms                 2000 non-null   int8   \n",
      " 1   Square                2000 non-null   float32\n",
      " 2   LifeSquare            2000 non-null   float32\n",
      " 3   KitchenSquare         2000 non-null   float32\n",
      " 4   Floor                 2000 non-null   int8   \n",
      " 5   HouseFloor            2000 non-null   int8   \n",
      " 6   HouseYear             2000 non-null   int16  \n",
      " 7   Ecology_1             2000 non-null   float32\n",
      " 8   Ecology_2             2000 non-null   int8   \n",
      " 9   Ecology_3             2000 non-null   int8   \n",
      " 10  Social_1              2000 non-null   int8   \n",
      " 11  Social_2              2000 non-null   int16  \n",
      " 12  Social_3              2000 non-null   int16  \n",
      " 13  Healthcare_1          2000 non-null   float32\n",
      " 14  Helthcare_2           2000 non-null   int8   \n",
      " 15  Shops_1               2000 non-null   int8   \n",
      " 16  Shops_2               2000 non-null   int8   \n",
      " 17  ChangedLifeSquare     2000 non-null   int8   \n",
      " 18  ChangedRooms          2000 non-null   int8   \n",
      " 19  ChangedSquare         2000 non-null   int8   \n",
      " 20  ChangedKitchenSquare  2000 non-null   int8   \n",
      " 21  IsHouseNew            2000 non-null   int8   \n",
      " 22  MedianMeterPrice      2000 non-null   float32\n",
      " 23  healthcare_1_na       2000 non-null   int8   \n",
      "dtypes: float32(6), int16(3), int8(15)\n",
      "memory usage: 103.5 KB\n"
     ]
    }
   ],
   "source": [
    "from sklearn.model_selection import train_test_split\n",
    "\n",
    "### считываем данные с нуля\n",
    "df = pd.read_csv(TRAIN_DATASET)\n",
    "data_pl = DataPipeline()\n",
    "\n",
    "y = df['Price']\n",
    "X = df.drop(columns=\"Price\")\n",
    "X_train, X_test, y_train, y_test = train_test_split(X, y, test_size=0.2, shuffle=True, random_state=42)\n",
    "\n",
    "data_pl.fit(X_train, y_train)\n",
    "\n",
    "X_train = data_pl.transform(X_train)\n",
    "X_test = data_pl.transform(X_test)\n",
    "X_test.info()\n"
   ]
  },
  {
   "cell_type": "markdown",
   "id": "6af2b5e0",
   "metadata": {},
   "source": [
    "### Обучение\n",
    "\n",
    "Буду использовать 3 модели: RandomForestRegressor, GradientBoostingRegressor и HistGradientBoostingRegressor с поиском по сетке GridSearchCV\n",
    "В итоге лучшие результаты показал HistGradientBoostingRegressor с лучшими параметрами на трейне:\n",
    "\n",
    "{'max_depth': 7, 'max_iter': 100, 'min_samples_leaf': 20}\n"
   ]
  },
  {
   "cell_type": "code",
   "execution_count": 39,
   "id": "33cacf3a",
   "metadata": {},
   "outputs": [],
   "source": [
    "def evaluate_preds(train_true_values, train_pred_values, test_true_values, test_pred_values):\n",
    "    \"\"\"\n",
    "    Выводит R2 и строит графики для оценки качества модели\n",
    "    \"\"\"\n",
    "    print(\"Train R2:\\t\" + str(round(r2(train_true_values, train_pred_values), 3)))\n",
    "    print(\"Test R2:\\t\" + str(round(r2(test_true_values, test_pred_values), 3)))\n",
    "\n",
    "    plt.figure(figsize=(18,10))\n",
    "    plt.subplot(121)\n",
    "    sns.scatterplot(x=train_pred_values, y=train_true_values)\n",
    "    plt.xlabel('Predicted values')\n",
    "    plt.ylabel('True values')\n",
    "    plt.title('Train sample prediction')\n",
    "    \n",
    "    plt.subplot(122)\n",
    "    sns.scatterplot(x=test_pred_values, y=test_true_values)\n",
    "    plt.xlabel('Predicted values')\n",
    "    plt.ylabel('True values')\n",
    "    plt.title('Test sample prediction')\n",
    "\n",
    "    plt.show()"
   ]
  },
  {
   "cell_type": "code",
   "execution_count": 40,
   "id": "b8f3953c",
   "metadata": {},
   "outputs": [
    {
     "name": "stdout",
     "output_type": "stream",
     "text": [
      "CPU times: user 2.25 s, sys: 87.5 ms, total: 2.34 s\n",
      "Wall time: 712 ms\n"
     ]
    }
   ],
   "source": [
    "\n",
    "%%time\n",
    "from sklearn.experimental import enable_hist_gradient_boosting\n",
    "from sklearn.ensemble import HistGradientBoostingRegressor\n",
    "from sklearn.ensemble import RandomForestRegressor, GradientBoostingRegressor\n",
    "from sklearn.metrics import mean_squared_error as mse, r2_score as r2\n",
    "from sklearn.model_selection import KFold, GridSearchCV\n",
    "\n",
    "model = HistGradientBoostingRegressor(max_depth=7, max_iter=100, min_samples_leaf=20)\n",
    "model.fit(X_train, y_train)\n",
    "y_train_pred = model.predict(X_train)\n",
    "y_test_pred = model.predict(X_test)"
   ]
  },
  {
   "cell_type": "code",
   "execution_count": 41,
   "id": "33d263d1",
   "metadata": {},
   "outputs": [
    {
     "name": "stdout",
     "output_type": "stream",
     "text": [
      "Train R2:\t0.86\n",
      "Test R2:\t0.764\n"
     ]
    },
    {
     "data": {
      "image/png": "[encoded data removed]",
      "text/plain": [
       "<Figure size 1296x720 with 2 Axes>"
      ]
     },
     "metadata": {},
     "output_type": "display_data"
    }
   ],
   "source": [
    "evaluate_preds(y_train, y_train_pred, y_test, y_test_pred)"
   ]
  },
  {
   "cell_type": "markdown",
   "id": "f8fee3eb",
   "metadata": {},
   "source": [
    "### Проверка и выгрузка на тестовых данных"
   ]
  },
  {
   "cell_type": "code",
   "execution_count": 42,
   "id": "617e3086",
   "metadata": {},
   "outputs": [
    {
     "name": "stdout",
     "output_type": "stream",
     "text": [
      "<class 'pandas.core.frame.DataFrame'>\n",
      "RangeIndex: 5000 entries, 0 to 4999\n",
      "Data columns (total 19 columns):\n",
      " #   Column         Non-Null Count  Dtype  \n",
      "---  ------         --------------  -----  \n",
      " 0   Id             5000 non-null   int64  \n",
      " 1   DistrictId     5000 non-null   int64  \n",
      " 2   Rooms          5000 non-null   float64\n",
      " 3   Square         5000 non-null   float64\n",
      " 4   LifeSquare     3959 non-null   float64\n",
      " 5   KitchenSquare  5000 non-null   float64\n",
      " 6   Floor          5000 non-null   int64  \n",
      " 7   HouseFloor     5000 non-null   float64\n",
      " 8   HouseYear      5000 non-null   int64  \n",
      " 9   Ecology_1      5000 non-null   float64\n",
      " 10  Ecology_2      5000 non-null   object \n",
      " 11  Ecology_3      5000 non-null   object \n",
      " 12  Social_1       5000 non-null   int64  \n",
      " 13  Social_2       5000 non-null   int64  \n",
      " 14  Social_3       5000 non-null   int64  \n",
      " 15  Healthcare_1   2623 non-null   float64\n",
      " 16  Helthcare_2    5000 non-null   int64  \n",
      " 17  Shops_1        5000 non-null   int64  \n",
      " 18  Shops_2        5000 non-null   object \n",
      "dtypes: float64(7), int64(9), object(3)\n",
      "memory usage: 742.3+ KB\n"
     ]
    }
   ],
   "source": [
    "test_df = pd.read_csv(TEST_DATASET)\n",
    "test_df.info()"
   ]
  },
  {
   "cell_type": "code",
   "execution_count": 43,
   "id": "3f028cf9",
   "metadata": {},
   "outputs": [
    {
     "name": "stdout",
     "output_type": "stream",
     "text": [
      "<class 'pandas.core.frame.DataFrame'>\n",
      "Int64Index: 5000 entries, 0 to 4999\n",
      "Data columns (total 24 columns):\n",
      " #   Column                Non-Null Count  Dtype  \n",
      "---  ------                --------------  -----  \n",
      " 0   Rooms                 5000 non-null   int8   \n",
      " 1   Square                5000 non-null   float32\n",
      " 2   LifeSquare            5000 non-null   float32\n",
      " 3   KitchenSquare         5000 non-null   float32\n",
      " 4   Floor                 5000 non-null   int8   \n",
      " 5   HouseFloor            5000 non-null   int8   \n",
      " 6   HouseYear             5000 non-null   int16  \n",
      " 7   Ecology_1             5000 non-null   float32\n",
      " 8   Ecology_2             5000 non-null   int8   \n",
      " 9   Ecology_3             5000 non-null   int8   \n",
      " 10  Social_1              5000 non-null   int8   \n",
      " 11  Social_2              5000 non-null   int16  \n",
      " 12  Social_3              5000 non-null   int16  \n",
      " 13  Healthcare_1          5000 non-null   float32\n",
      " 14  Helthcare_2           5000 non-null   int8   \n",
      " 15  Shops_1               5000 non-null   int8   \n",
      " 16  Shops_2               5000 non-null   int8   \n",
      " 17  ChangedLifeSquare     5000 non-null   int8   \n",
      " 18  ChangedRooms          5000 non-null   int8   \n",
      " 19  ChangedSquare         5000 non-null   int8   \n",
      " 20  ChangedKitchenSquare  5000 non-null   int8   \n",
      " 21  IsHouseNew            5000 non-null   int8   \n",
      " 22  MedianMeterPrice      5000 non-null   float32\n",
      " 23  healthcare_1_na       5000 non-null   int8   \n",
      "dtypes: float32(6), int16(3), int8(15)\n",
      "memory usage: 258.8 KB\n"
     ]
    }
   ],
   "source": [
    "X_test_ = data_pl.transform(test_df)\n",
    "X_test_.info()"
   ]
  },
  {
   "cell_type": "code",
   "execution_count": 44,
   "id": "e587e004",
   "metadata": {},
   "outputs": [
    {
     "data": {
      "text/plain": [
       "(5000, 2)"
      ]
     },
     "execution_count": 44,
     "metadata": {},
     "output_type": "execute_result"
    }
   ],
   "source": [
    "submit_df = test_df[[\"Id\"]]\n",
    "submit_df[\"Price\"] = model.predict(X_test_)\n",
    "submit_df.shape"
   ]
  },
  {
   "cell_type": "code",
   "execution_count": 45,
   "id": "7811a303",
   "metadata": {},
   "outputs": [],
   "source": [
    "submit_df.to_csv(\"./submit.csv\", index=False)"
   ]
  },
  {
   "cell_type": "markdown",
   "id": "b4899b43",
   "metadata": {},
   "source": [
    "### Результат на kaggle 0.72810"
   ]
  },
  {
   "cell_type": "markdown",
   "id": "52e62768",
   "metadata": {},
   "source": [
    "### Предположение: \n",
    "Если сделать fit по всему трейновому датасету, то скор может быть существенно выше. Это проверено при уменьшении размера валидационного датасета, соответственно увеличением тренировочного. Предположу, что разбиение на тренировочный и валидационный датасеты не обязательно, так как использовался поиск по сетке с кросс-валидацией на 5 фолдах.\n",
    "Поэтому повторяю всю процедуру по всему тренировочному датасету.\n",
    "И опять победил HistGradientBoostingRegressor с параметрами:\n",
    "\n",
    "#### {'max_depth': 20, 'max_iter': 100, 'min_samples_leaf': 15}\n",
    "\n",
    "Это позволило существенно увеличить скор на kaggle\n",
    "####  0.72810 => 0.74871"
   ]
  },
  {
   "cell_type": "code",
   "execution_count": 46,
   "id": "7cd48858",
   "metadata": {},
   "outputs": [],
   "source": [
    "data_pl.fit(X, y)\n",
    "X_train_full = data_pl.transform(X)\n",
    "X_test_full = data_pl.transform(test_df)\n",
    "\n",
    "model_new = HistGradientBoostingRegressor(max_depth=20, max_iter=100, min_samples_leaf=15)\n",
    "model_new.fit(X_train_full, y)\n",
    "\n",
    "submit_full = test_df[[\"Id\"]]\n",
    "submit_full[\"Price\"] = model_new.predict(X_test_full)\n",
    "submit_full.to_csv(\"./submit_full.csv\", index=False)"
   ]
  },
  {
   "cell_type": "code",
   "execution_count": 47,
   "id": "0aac8d25",
   "metadata": {},
   "outputs": [
    {
     "data": {
      "text/plain": [
       "0.870376076970589"
      ]
     },
     "execution_count": 47,
     "metadata": {},
     "output_type": "execute_result"
    }
   ],
   "source": [
    "r2(y, model_new.predict(X_train_full))"
   ]
  },
  {
   "cell_type": "markdown",
   "id": "83b41c13",
   "metadata": {},
   "source": [
    "### Ник на kaggle: Alexander Maslikhin\n",
    "### Score: 0.74871\n",
    "\n",
    "\n",
    "\n"
   ]
  }
 ],
 "metadata": {
  "kernelspec": {
   "display_name": "Python 3",
   "language": "python",
   "name": "python3"
  },
  "language_info": {
   "codemirror_mode": {
    "name": "ipython",
    "version": 3
   },
   "file_extension": ".py",
   "mimetype": "text/x-python",
   "name": "python",
   "nbconvert_exporter": "python",
   "pygments_lexer": "ipython3",
   "version": "3.8.8"
  },
  "varInspector": {
   "cols": {
    "lenName": 16,
    "lenType": 16,
    "lenVar": 40
   },
   "kernels_config": {
    "python": {
     "delete_cmd_postfix": "",
     "delete_cmd_prefix": "del ",
     "library": "var_list.py",
     "varRefreshCmd": "print(var_dic_list())"
    },
    "r": {
     "delete_cmd_postfix": ") ",
     "delete_cmd_prefix": "rm(",
     "library": "var_list.r",
     "varRefreshCmd": "cat(var_dic_list()) "
    }
   },
   "types_to_exclude": [
    "module",
    "function",
    "builtin_function_or_method",
    "instance",
    "_Feature"
   ],
   "window_display": false
  }
 },
 "nbformat": 4,
 "nbformat_minor": 5
}
